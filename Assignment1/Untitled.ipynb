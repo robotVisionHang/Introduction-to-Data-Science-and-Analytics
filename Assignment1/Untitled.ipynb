{
 "cells": [
  {
   "cell_type": "code",
   "execution_count": 1,
   "metadata": {},
   "outputs": [],
   "source": [
    "import pandas as pd\n",
    "import numpy as np\n",
    "from collections import Counter\n",
    "from functools import reduce\n",
    "import matplotlib\n",
    "import matplotlib.pyplot as plt\n",
    "%matplotlib inline\n",
    "import html\n",
    "import re\n",
    "import nltk\n",
    "from nltk.tokenize import RegexpTokenizer\n",
    "\n",
    "from sklearn.linear_model import LogisticRegression\n",
    "from sklearn.model_selection import train_test_split\n",
    "from sklearn.metrics import accuracy_score, confusion_matrix\n",
    "\n",
    "from scipy import stats\n",
    "import random\n",
    "random.seed()"
   ]
  },
  {
   "cell_type": "code",
   "execution_count": 2,
   "metadata": {},
   "outputs": [],
   "source": [
    "# load original data and stop words\n",
    "generic_tweets = pd.read_csv('generic_tweets.txt')\n",
    "airline_tweets = pd.read_csv('US_airline_tweets.csv')\n",
    "\n",
    "with open('stop_words.txt','r') as f:\n",
    "    stop_words = f.read().split('\\n')"
   ]
  },
  {
   "cell_type": "code",
   "execution_count": 3,
   "metadata": {},
   "outputs": [],
   "source": [
    "class DataCleaner(object):\n",
    "    def __init__(self,stop_words=[\"\"], remove_steps = []):\n",
    "        super().__init__()\n",
    "        self.hashtags = str()\n",
    "        self.remove_steps = remove_steps\n",
    "        self.stop_words = stop_words\n",
    "        self.procedures = [getattr(self,procedure) for procedure in \\\n",
    "                        [step for step in sorted(dir(self)) if step.startswith(\"step_\")]]\n",
    "        # remove some procedures according to users' needs\n",
    "        for i in sorted(self.remove_steps,reverse=True):\n",
    "                self.procedures.pop(i-1)\n",
    "\n",
    "    #use reduce to sequentially clean the raw data, equivelent to funcN(...func2(func1(data)))\n",
    "    def clean(self, data):\n",
    "            return reduce(lambda data,func:func(data),[data]+self.procedures),self.hashtags\n",
    "\n",
    "    # Html character codes (i.e., &...;) are replaced with an ASCII equivalent.\n",
    "    def step_01_to_ascii(self,data):\n",
    "        return html.unescape(data)\n",
    "\n",
    "    # Remove html tags and attributes in form of <...>\n",
    "    def step_02_remove_html_tag(self,data):\n",
    "        return re.sub(r\"\\s*<.*?>\",'', data)\n",
    "\n",
    "    # Remove url in form of (http or https://)address.domain(/file)\n",
    "    def step_03_remove_url(self,data):\n",
    "        return re.sub(r'\\s*(?:https?:\\/\\/)?[\\w.-]+(?:\\.[\\w.-]+)+[\\w\\-._~:/?#[\\]@!\\$&\\'\\(\\)\\*\\+,;=.]+','',data)\n",
    "\n",
    "    # Change all characters in the text to lowercase.\n",
    "    def step_04_to_lower(self,data):\n",
    "        return data.lower()\n",
    "\n",
    "    # Retrive @ tag message\n",
    "    def step_05_hash_tag_retrieval(self,data):\n",
    "        self.hashtags = ' '.join(re.findall(r'(?<=@)[^\\s]+\\s?',data))\n",
    "        return re.sub(r'@.*?\\s','',data)\n",
    "\n",
    "    # Remove punctuation\n",
    "    def step_06_remove_punctuation(self,data):\n",
    "        tokenizer = RegexpTokenizer(r'\\w+')\n",
    "        words_list = tokenizer.tokenize(data)\n",
    "        return ' '.join(words_list)\n",
    "\n",
    "    # Remove stop words\n",
    "    def step_07_remove_stop_words(self,data):\n",
    "        words = data.split()\n",
    "        new_data = [word for word in words if word not in self.stop_words]\n",
    "        return ' '.join(new_data) #clean up empty charactor\n",
    "\n",
    "    # Remove non alphanumeric characters except space\n",
    "    def step_08_remove_nonAlphaNumerical(self,data):\n",
    "        return re.sub(r'[^\\s\\w]+','',data)"
   ]
  },
  {
   "cell_type": "code",
   "execution_count": 4,
   "metadata": {},
   "outputs": [],
   "source": [
    "myCleaner = DataCleaner(stop_words)\n",
    "airline_tweets['clean_text'],airline_tweets['@_tags'] = np.vectorize(myCleaner.clean)(airline_tweets['text'])"
   ]
  },
  {
   "cell_type": "code",
   "execution_count": 6,
   "metadata": {},
   "outputs": [
    {
     "data": {
      "text/plain": [
       "Counter({'Bad Flight': 580,\n",
       "         \"Can't Tell\": 1190,\n",
       "         'Cancelled Flight': 847,\n",
       "         'Customer Service Issue': 2910,\n",
       "         'Damaged Luggage': 74,\n",
       "         'Flight Attendant Complaints': 481,\n",
       "         'Flight Booking Problems': 529,\n",
       "         'Late Flight': 1665,\n",
       "         'Lost Luggage': 724,\n",
       "         'longlines': 178})"
      ]
     },
     "execution_count": 6,
     "metadata": {},
     "output_type": "execute_result"
    }
   ],
   "source": [
    "x = Counter(airline_tweets[airline_tweets['sentiment']=='negative']['negative_reason'])\n",
    "x"
   ]
  },
  {
   "cell_type": "code",
   "execution_count": 10,
   "metadata": {},
   "outputs": [],
   "source": [
    "airline_tweets['class'] = [1 if row['sentiment']=='positive' else 0 for index,row in airline_tweets.iterrows()]"
   ]
  },
  {
   "cell_type": "code",
   "execution_count": 11,
   "metadata": {},
   "outputs": [
    {
     "data": {
      "text/html": [
       "<div>\n",
       "<style scoped>\n",
       "    .dataframe tbody tr th:only-of-type {\n",
       "        vertical-align: middle;\n",
       "    }\n",
       "\n",
       "    .dataframe tbody tr th {\n",
       "        vertical-align: top;\n",
       "    }\n",
       "\n",
       "    .dataframe thead th {\n",
       "        text-align: right;\n",
       "    }\n",
       "</style>\n",
       "<table border=\"1\" class=\"dataframe\">\n",
       "  <thead>\n",
       "    <tr style=\"text-align: right;\">\n",
       "      <th></th>\n",
       "      <th>id</th>\n",
       "      <th>sentiment</th>\n",
       "      <th>negative_reason</th>\n",
       "      <th>user</th>\n",
       "      <th>retweet_count</th>\n",
       "      <th>text</th>\n",
       "      <th>clean_text</th>\n",
       "      <th>@_tags</th>\n",
       "      <th>class</th>\n",
       "    </tr>\n",
       "  </thead>\n",
       "  <tbody>\n",
       "    <tr>\n",
       "      <th>0</th>\n",
       "      <td>5.703010e+17</td>\n",
       "      <td>positive</td>\n",
       "      <td>NaN</td>\n",
       "      <td>jnardino</td>\n",
       "      <td>0</td>\n",
       "      <td>@VirginAmerica plus you've added commercials t...</td>\n",
       "      <td>ve commercials tacky</td>\n",
       "      <td>virginamerica</td>\n",
       "      <td>1</td>\n",
       "    </tr>\n",
       "    <tr>\n",
       "      <th>1</th>\n",
       "      <td>5.703010e+17</td>\n",
       "      <td>negative</td>\n",
       "      <td>Bad Flight</td>\n",
       "      <td>jnardino</td>\n",
       "      <td>0</td>\n",
       "      <td>@VirginAmerica it's really aggressive to blast...</td>\n",
       "      <td>aggressive blast obnoxious entertainment guest...</td>\n",
       "      <td>virginamerica</td>\n",
       "      <td>0</td>\n",
       "    </tr>\n",
       "    <tr>\n",
       "      <th>2</th>\n",
       "      <td>5.703010e+17</td>\n",
       "      <td>negative</td>\n",
       "      <td>Can't Tell</td>\n",
       "      <td>jnardino</td>\n",
       "      <td>0</td>\n",
       "      <td>@VirginAmerica and it's a really big bad thing...</td>\n",
       "      <td>big bad thing</td>\n",
       "      <td>virginamerica</td>\n",
       "      <td>0</td>\n",
       "    </tr>\n",
       "    <tr>\n",
       "      <th>3</th>\n",
       "      <td>5.703010e+17</td>\n",
       "      <td>negative</td>\n",
       "      <td>Can't Tell</td>\n",
       "      <td>jnardino</td>\n",
       "      <td>0</td>\n",
       "      <td>@VirginAmerica seriously would pay $30 a fligh...</td>\n",
       "      <td>seriously pay 30 flight seats didn t playing b...</td>\n",
       "      <td>virginamerica</td>\n",
       "      <td>0</td>\n",
       "    </tr>\n",
       "    <tr>\n",
       "      <th>4</th>\n",
       "      <td>5.703010e+17</td>\n",
       "      <td>positive</td>\n",
       "      <td>NaN</td>\n",
       "      <td>cjmcginnis</td>\n",
       "      <td>0</td>\n",
       "      <td>@VirginAmerica yes, nearly every time I fly VX...</td>\n",
       "      <td>time fly vx â œear wormâ wonâ t</td>\n",
       "      <td>virginamerica</td>\n",
       "      <td>1</td>\n",
       "    </tr>\n",
       "  </tbody>\n",
       "</table>\n",
       "</div>"
      ],
      "text/plain": [
       "             id sentiment negative_reason        user  retweet_count  \\\n",
       "0  5.703010e+17  positive             NaN    jnardino              0   \n",
       "1  5.703010e+17  negative      Bad Flight    jnardino              0   \n",
       "2  5.703010e+17  negative      Can't Tell    jnardino              0   \n",
       "3  5.703010e+17  negative      Can't Tell    jnardino              0   \n",
       "4  5.703010e+17  positive             NaN  cjmcginnis              0   \n",
       "\n",
       "                                                text  \\\n",
       "0  @VirginAmerica plus you've added commercials t...   \n",
       "1  @VirginAmerica it's really aggressive to blast...   \n",
       "2  @VirginAmerica and it's a really big bad thing...   \n",
       "3  @VirginAmerica seriously would pay $30 a fligh...   \n",
       "4  @VirginAmerica yes, nearly every time I fly VX...   \n",
       "\n",
       "                                          clean_text          @_tags  class  \n",
       "0                               ve commercials tacky  virginamerica       1  \n",
       "1  aggressive blast obnoxious entertainment guest...  virginamerica       0  \n",
       "2                                      big bad thing  virginamerica       0  \n",
       "3  seriously pay 30 flight seats didn t playing b...  virginamerica       0  \n",
       "4                    time fly vx â œear wormâ wonâ t  virginamerica       1  "
      ]
     },
     "execution_count": 11,
     "metadata": {},
     "output_type": "execute_result"
    }
   ],
   "source": [
    "airline_tweets.head()"
   ]
  },
  {
   "cell_type": "code",
   "execution_count": 14,
   "metadata": {},
   "outputs": [
    {
     "data": {
      "text/plain": [
       "['run_01_to_ascii',\n",
       " 'run_02_remove_html_tag',\n",
       " 'run_03_remove_url',\n",
       " 'run_04_to_lower',\n",
       " 'run_05_remove_stop_words',\n",
       " 'run_06_hash_tag_retrieval',\n",
       " 'run_07_remove_all_nonAlphaNumerical_char']"
      ]
     },
     "execution_count": 14,
     "metadata": {},
     "output_type": "execute_result"
    }
   ],
   "source": [
    "re.findall(r'(run_.*?)(?:\\s)',' '.join(sorted(dir(thisClean))))"
   ]
  },
  {
   "cell_type": "code",
   "execution_count": null,
   "metadata": {},
   "outputs": [],
   "source": []
  }
 ],
 "metadata": {
  "kernelspec": {
   "display_name": "Python 3",
   "language": "python",
   "name": "python3"
  },
  "language_info": {
   "codemirror_mode": {
    "name": "ipython",
    "version": 3
   },
   "file_extension": ".py",
   "mimetype": "text/x-python",
   "name": "python",
   "nbconvert_exporter": "python",
   "pygments_lexer": "ipython3",
   "version": "3.6.4"
  }
 },
 "nbformat": 4,
 "nbformat_minor": 2
}
