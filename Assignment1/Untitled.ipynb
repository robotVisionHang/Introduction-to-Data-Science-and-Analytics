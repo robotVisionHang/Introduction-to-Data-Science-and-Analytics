{
 "cells": [
  {
   "cell_type": "code",
   "execution_count": 2,
   "metadata": {},
   "outputs": [],
   "source": [
    "import pandas as pd\n",
    "import re\n",
    "import numpy as np\n",
    "import html\n",
    "import warnings\n",
    "from functools import reduce\n",
    "from collections import OrderedDict as od\n",
    "import matplotlib.pyplot as plt"
   ]
  },
  {
   "cell_type": "code",
   "execution_count": 1,
   "metadata": {},
   "outputs": [],
   "source": [
    "class DataCleaner(object):\n",
    "    \n",
    "    def __init__(self,stopWords,removeProcudreInd:int=False):\n",
    "        super().__init__()\n",
    "        self.hashtag = str()\n",
    "        self.stopwords = set(stopWords) #hash it for O(1) check\n",
    "        \n",
    "        #use reflection to define the cleaning pipeline -> form of list of method pointers, sorted by name\n",
    "        self.procedures = [getattr(self,attr) for attr in \\\n",
    "                           re.findall(r'(run_.*?)(?:\\s)',' '.join(sorted(dir(self))))]\n",
    "        \n",
    "        #drop the disired procudure if user needs\n",
    "        if removeProcudreInd is not False:\n",
    "            self.procedures.pop(removeProcudreInd-1)\n",
    "            \n",
    "    #use reduce to sequentially clean the raw data, equivelent to funcN(...func2(func1(data)))\n",
    "    def clean(self,data):\n",
    "        return reduce(lambda data,func:func(data),[' '+data+' ']+self.procedures),self.hashtags\n",
    "    \n",
    "    def run_01_to_ascii(self,data):\n",
    "        return html.unescape(data)\n",
    "    \n",
    "    #remove html tag in form of <...>\n",
    "    def run_02_remove_html_tag(self,data):\n",
    "        return re.sub(r\"\\s*<.*?>\",'', data)\n",
    "    \n",
    "    #remove url in form of (http or https://)address.domain(/file)\n",
    "    def run_03_remove_url(self,data):\n",
    "        return re.sub(r'\\s*(?:https?:\\/\\/)?[\\w.-]+(?:\\.[\\w.-]+)+[\\w\\-._~:/?#[\\]@!\\$&\\'\\(\\)\\*\\+,;=.]+','',data)\n",
    "\n",
    "    def run_04_to_lower(self,data):\n",
    "        return data.lower()\n",
    "    \n",
    "    def run_07_remove_all_nonAlphaNumerical_char(self,data):\n",
    "        return re.sub(r'[^\\s\\w]+','',data)\n",
    "    \n",
    "    def run_05_remove_stop_words(self,data):\n",
    "        words = data.split()\n",
    "        for ind,word in enumerate(words):\n",
    "            if word in self.stopwords:\n",
    "                words[ind]=''\n",
    "        return ' '.join(filter(lambda x:x, words)) #clean up empty charactor\n",
    "    \n",
    "    def run_06_hash_tag_retrieval(self,data):\n",
    "        self.hashtags = ' '.join(re.findall(r'(?:#)(.*?)(?:\\s)',data))\n",
    "        return re.sub(r'#.*?\\s','',data)"
   ]
  },
  {
   "cell_type": "code",
   "execution_count": 4,
   "metadata": {},
   "outputs": [],
   "source": [
    "thisClean = DataCleaner([\"\"])"
   ]
  },
  {
   "cell_type": "code",
   "execution_count": 7,
   "metadata": {},
   "outputs": [
    {
     "name": "stdout",
     "output_type": "stream",
     "text": [
      "<class 'list'>\n"
     ]
    }
   ],
   "source": [
    "print(type(thisClean.procedures))"
   ]
  },
  {
   "cell_type": "code",
   "execution_count": 10,
   "metadata": {},
   "outputs": [
    {
     "data": {
      "text/plain": [
       "['run_04_to_lower', 'run_05_remove_stop_words']"
      ]
     },
     "execution_count": 10,
     "metadata": {},
     "output_type": "execute_result"
    }
   ],
   "source": [
    "re.findall(r'(run_.*?)(?:\\s)',' '.join([\"run_04_to_lower\",\"run_05_remove_stop_words\",\"run_07_remove_all_nonAlphaNumerical_char\"]))"
   ]
  },
  {
   "cell_type": "code",
   "execution_count": 11,
   "metadata": {},
   "outputs": [
    {
     "data": {
      "text/plain": [
       "''"
      ]
     },
     "execution_count": 11,
     "metadata": {},
     "output_type": "execute_result"
    }
   ],
   "source": [
    "str()"
   ]
  },
  {
   "cell_type": "code",
   "execution_count": 14,
   "metadata": {},
   "outputs": [
    {
     "data": {
      "text/plain": [
       "['run_01_to_ascii',\n",
       " 'run_02_remove_html_tag',\n",
       " 'run_03_remove_url',\n",
       " 'run_04_to_lower',\n",
       " 'run_05_remove_stop_words',\n",
       " 'run_06_hash_tag_retrieval',\n",
       " 'run_07_remove_all_nonAlphaNumerical_char']"
      ]
     },
     "execution_count": 14,
     "metadata": {},
     "output_type": "execute_result"
    }
   ],
   "source": [
    "re.findall(r'(run_.*?)(?:\\s)',' '.join(sorted(dir(thisClean))))"
   ]
  },
  {
   "cell_type": "code",
   "execution_count": 19,
   "metadata": {},
   "outputs": [
    {
     "data": {
      "text/plain": [
       "['data ',\n",
       " <bound method DataCleaner.run_01_to_ascii of <__main__.DataCleaner object at 0x7f1b987f05c0>>,\n",
       " <bound method DataCleaner.run_02_remove_html_tag of <__main__.DataCleaner object at 0x7f1b987f05c0>>,\n",
       " <bound method DataCleaner.run_03_remove_url of <__main__.DataCleaner object at 0x7f1b987f05c0>>,\n",
       " <bound method DataCleaner.run_04_to_lower of <__main__.DataCleaner object at 0x7f1b987f05c0>>,\n",
       " <bound method DataCleaner.run_05_remove_stop_words of <__main__.DataCleaner object at 0x7f1b987f05c0>>,\n",
       " <bound method DataCleaner.run_06_hash_tag_retrieval of <__main__.DataCleaner object at 0x7f1b987f05c0>>,\n",
       " <bound method DataCleaner.run_07_remove_all_nonAlphaNumerical_char of <__main__.DataCleaner object at 0x7f1b987f05c0>>]"
      ]
     },
     "execution_count": 19,
     "metadata": {},
     "output_type": "execute_result"
    }
   ],
   "source": [
    "['data'+' ']+thisClean.procedures"
   ]
  },
  {
   "cell_type": "code",
   "execution_count": null,
   "metadata": {},
   "outputs": [],
   "source": []
  }
 ],
 "metadata": {
  "kernelspec": {
   "display_name": "Python 3",
   "language": "python",
   "name": "python3"
  },
  "language_info": {
   "codemirror_mode": {
    "name": "ipython",
    "version": 3
   },
   "file_extension": ".py",
   "mimetype": "text/x-python",
   "name": "python",
   "nbconvert_exporter": "python",
   "pygments_lexer": "ipython3",
   "version": "3.6.4"
  }
 },
 "nbformat": 4,
 "nbformat_minor": 2
}
