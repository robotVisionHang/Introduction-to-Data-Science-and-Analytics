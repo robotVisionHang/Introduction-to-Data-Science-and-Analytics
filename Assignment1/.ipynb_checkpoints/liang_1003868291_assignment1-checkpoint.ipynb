{
 "cells": [
  {
   "cell_type": "markdown",
   "metadata": {},
   "source": [
    "# Assignment1 Sentiment Analysis"
   ]
  },
  {
   "cell_type": "code",
   "execution_count": 1,
   "metadata": {},
   "outputs": [],
   "source": [
    "import pandas as pd\n",
    "import numpy as np\n",
    "from collections import Counter\n",
    "from functools import reduce\n",
    "import matplotlib\n",
    "import matplotlib.pyplot as plt\n",
    "%matplotlib inline\n",
    "import html\n",
    "import re\n",
    "import nltk\n",
    "from nltk.tokenize import RegexpTokenizer\n",
    "\n",
    "from sklearn.linear_model import LogisticRegression\n",
    "from sklearn.model_selection import train_test_split\n",
    "from sklearn.metrics import accuracy_score, confusion_matrix\n",
    "\n",
    "from scipy import stats\n",
    "import random\n",
    "random.seed()"
   ]
  },
  {
   "cell_type": "code",
   "execution_count": 2,
   "metadata": {},
   "outputs": [],
   "source": [
    "# load original data and stop words\n",
    "generic_tweets = pd.read_csv('generic_tweets.txt')\n",
    "airline_tweets = pd.read_csv('US_airline_tweets.csv')\n",
    "\n",
    "with open('stop_words.txt','r') as f:\n",
    "    stop_words = f.read().split('\\n')"
   ]
  },
  {
   "cell_type": "markdown",
   "metadata": {},
   "source": [
    "### Q1 Data Cleaning\n",
    "Create a data cleaner to perform the data cleaning procedure in sequence:\n",
    "\n",
    "- Encode according to ASCII\n",
    "- Remove html tags and attributes\n",
    "- Remove URLs\n",
    "- Change to lower cases\n",
    "- Remove stop words\n",
    "- Remove all non-alphanumerical charactors"
   ]
  },
  {
   "cell_type": "code",
   "execution_count": 3,
   "metadata": {},
   "outputs": [],
   "source": [
    "class DataCleaner(object):\n",
    "    def __init__(self,stop_words=[\"\"], remove_steps = []):\n",
    "        super().__init__()\n",
    "        self.hashtag = str()\n",
    "        self.remove_steps = remove_steps\n",
    "        self.stop_words = stop_words\n",
    "        self.procedures = [getattr(self,procedure) for procedure in \\\n",
    "                        [step for step in sorted(dir(self)) if step.startswith(\"step_\")]]\n",
    "        # remove some procedures according to users' needs\n",
    "        for i in sorted(self.remove_steps,reverse=True):\n",
    "                self.procedures.pop(i-1)\n",
    "\n",
    "    #use reduce to sequentially clean the raw data, equivelent to funcN(...func2(func1(data)))\n",
    "    def clean(self, data):\n",
    "        if 5 in self.remove_steps:\n",
    "            return reduce(lambda data,func:func(data),[' '+data+' '])\n",
    "        else:\n",
    "            return reduce(lambda data,func:func(data),[' '+data+' ']+self.procedures),self.hashtags\n",
    "\n",
    "    # Html character codes (i.e., &...;) are replaced with an ASCII equivalent.\n",
    "    def step_01_to_ascii(self,data):\n",
    "        return html.unescape(data)\n",
    "\n",
    "    # Remove html tags and attributes in form of <...>\n",
    "    def step_02_remove_html_tag(self,data):\n",
    "        return re.sub(r\"\\s*<.*?>\",'', data)\n",
    "\n",
    "    # Remove url in form of (http or https://)address.domain(/file)\n",
    "    def step_03_remove_url(self,data):\n",
    "        return re.sub(r'\\s*(?:https?:\\/\\/)?[\\w.-]+(?:\\.[\\w.-]+)+[\\w\\-._~:/?#[\\]@!\\$&\\'\\(\\)\\*\\+,;=.]+','',data)\n",
    "\n",
    "    # Change all characters in the text to lowercase.\n",
    "    def step_04_to_lower(self,data):\n",
    "        return data.lower()\n",
    "\n",
    "    # Retrive \n",
    "    def step_05_hash_tag_retrieval(self,data):\n",
    "        self.hashtags = ' '.join(re.findall(r'(?<=@)[^\\s]+\\s?',data))\n",
    "        return re.sub(r'@.*?\\s','',data)\n",
    "\n",
    "    # Remove punctuation\n",
    "    def step_06_remove_punctuation(self,data):\n",
    "        tokenizer = RegexpTokenizer(r'\\w+')\n",
    "        words_list = tokenizer.tokenize(data)\n",
    "        return ' '.join(words_list)\n",
    "\n",
    "    # Remove stop words\n",
    "    def step_07_remove_stop_words(self,data):\n",
    "        words = data.split()\n",
    "        new_data = [word for word in words if word not in self.stop_words]\n",
    "        return ' '.join(new_data) #clean up empty charactor\n",
    "\n",
    "    # Remove non alphanumeric characters except space\n",
    "    def step_08_remove_nonAlphaNumerical(self,data):\n",
    "        return re.sub(r'[^\\s\\w]+','',data)"
   ]
  },
  {
   "cell_type": "code",
   "execution_count": 4,
   "metadata": {},
   "outputs": [],
   "source": [
    "myCleaner = DataCleaner(stop_words)\n",
    "airline_tweets['clean_text'],airline_tweets['@_tags'] = np.vectorize(myCleaner.clean)(airline_tweets['text'])"
   ]
  },
  {
   "cell_type": "code",
   "execution_count": 10,
   "metadata": {},
   "outputs": [],
   "source": [
    "def LabelKey(dataFrame):\n",
    "    airlines = ['americanair','usairways','bostonlogan','united',\\\n",
    "               'deltaassist','jetblue','southwestair','virginamerica']\n",
    "    dataSeries = dataFrame['@_tags']\n",
    "    for i in range(len(dataSeries)):\n",
    "        flag = 1\n",
    "        for airline in airlines:\n",
    "            if dataSeries[i].find(airline)>=0:\n",
    "                dataFrame['airline'][i] = airline\n",
    "                flag = 0\n",
    "                break\n",
    "        if flag:\n",
    "            for airline in airlines:\n",
    "                if dataFrame['text'][i].find(airline)>=0:\n",
    "                    dataFrame['airline'][i] = airline\n",
    "                    break"
   ]
  },
  {
   "cell_type": "code",
   "execution_count": 11,
   "metadata": {},
   "outputs": [
    {
     "name": "stderr",
     "output_type": "stream",
     "text": [
      "/home/hanwen/anaconda3/lib/python3.6/site-packages/ipykernel_launcher.py:8: SettingWithCopyWarning: \n",
      "A value is trying to be set on a copy of a slice from a DataFrame\n",
      "\n",
      "See the caveats in the documentation: http://pandas.pydata.org/pandas-docs/stable/indexing.html#indexing-view-versus-copy\n",
      "  \n",
      "/home/hanwen/anaconda3/lib/python3.6/site-packages/ipykernel_launcher.py:14: SettingWithCopyWarning: \n",
      "A value is trying to be set on a copy of a slice from a DataFrame\n",
      "\n",
      "See the caveats in the documentation: http://pandas.pydata.org/pandas-docs/stable/indexing.html#indexing-view-versus-copy\n",
      "  \n"
     ]
    }
   ],
   "source": [
    "airline_tweets['airline'] = 'Unknown'\n",
    "LabelKey(airline_tweets)"
   ]
  },
  {
   "cell_type": "code",
   "execution_count": 12,
   "metadata": {},
   "outputs": [
    {
     "data": {
      "text/plain": [
       "Text(0.5,1,'Distribution of the Political Affliation of the Tweets')"
      ]
     },
     "execution_count": 12,
     "metadata": {},
     "output_type": "execute_result"
    },
    {
     "data": {
      "image/png": "[encoded data removed]",
      "text/plain": [
       "<matplotlib.figure.Figure at 0x7f2ec5b39550>"
      ]
     },
     "metadata": {},
     "output_type": "display_data"
    }
   ],
   "source": [
    "# plot a histogram\n",
    "x = Counter(airline_tweets['airline'])\n",
    "l = range(len(x.keys()))\n",
    "plt.bar(l, x.values(), align='center')\n",
    "plt.xticks(l, x.keys())\n",
    "plt.ylabel('# of related tweets')\n",
    "plt.title('Distribution of the Political Affliation of the Tweets')"
   ]
  },
  {
   "cell_type": "code",
   "execution_count": null,
   "metadata": {},
   "outputs": [],
   "source": [
    "['americanair','usairways','bostonlogan','united','deltaassist','jetblue','southwestair','virginamerica']"
   ]
  }
 ],
 "metadata": {
  "kernelspec": {
   "display_name": "Python 3",
   "language": "python",
   "name": "python3"
  },
  "language_info": {
   "codemirror_mode": {
    "name": "ipython",
    "version": 3
   },
   "file_extension": ".py",
   "mimetype": "text/x-python",
   "name": "python",
   "nbconvert_exporter": "python",
   "pygments_lexer": "ipython3",
   "version": "3.6.4"
  }
 },
 "nbformat": 4,
 "nbformat_minor": 2
}
