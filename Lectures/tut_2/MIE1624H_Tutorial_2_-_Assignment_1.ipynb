{
 "cells": [
  {
   "cell_type": "markdown",
   "metadata": {},
   "source": [
    "# MIE1624 Tutorial 2 - Assignment 1 "
   ]
  },
  {
   "cell_type": "markdown",
   "metadata": {},
   "source": [
    "In this tutorial, we will go over the following:\n",
    " - What is expected of by the assignment\n",
    " - Reading in data\n",
    " - String manipulation\n",
    " - Simple plots\n",
    " - Machine learning\n",
    "     - preparing data\n",
    "     - making predictions\n",
    "     - validating model\n",
    "     \n",
    "**Note: All libraries are allowed except for those that do sentiment analysis, such as Watson Natural Language Processing**"
   ]
  },
  {
   "cell_type": "markdown",
   "metadata": {},
   "source": [
    "#### Install necessary libraries"
   ]
  },
  {
   "cell_type": "code",
   "execution_count": 1,
   "metadata": {},
   "outputs": [
    {
     "name": "stdout",
     "output_type": "stream",
     "text": [
      "Requirement already satisfied: numpy in /home/hanwen/.local/lib/python3.6/site-packages (1.14.5)\n",
      "Requirement already satisfied: pandas in /home/hanwen/anaconda3/lib/python3.6/site-packages (0.23.4)\n",
      "Requirement already satisfied: python-dateutil>=2.5.0 in /home/hanwen/anaconda3/lib/python3.6/site-packages (from pandas) (2.6.1)\n",
      "Requirement already satisfied: pytz>=2011k in /home/hanwen/anaconda3/lib/python3.6/site-packages (from pandas) (2017.3)\n",
      "Requirement already satisfied: numpy>=1.9.0 in /home/hanwen/.local/lib/python3.6/site-packages (from pandas) (1.14.5)\n",
      "Requirement already satisfied: six>=1.5 in /home/hanwen/.local/lib/python3.6/site-packages (from python-dateutil>=2.5.0->pandas) (1.11.0)\n",
      "Collecting sklearn\n",
      "  Downloading https://files.pythonhosted.org/packages/1e/7a/dbb3be0ce9bd5c8b7e3d87328e79063f8b263b2b1bfa4774cb1147bfcd3f/sklearn-0.0.tar.gz\n",
      "Requirement already satisfied: scikit-learn in /home/hanwen/anaconda3/lib/python3.6/site-packages (from sklearn) (0.19.1)\n",
      "Building wheels for collected packages: sklearn\n",
      "  Running setup.py bdist_wheel for sklearn ... \u001b[?25ldone\n",
      "\u001b[?25h  Stored in directory: /home/hanwen/.cache/pip/wheels/76/03/bb/589d421d27431bcd2c6da284d5f2286c8e3b2ea3cf1594c074\n",
      "Successfully built sklearn\n",
      "Installing collected packages: sklearn\n",
      "Successfully installed sklearn-0.0\n"
     ]
    }
   ],
   "source": [
    "!pip install numpy\n",
    "!pip install pandas\n",
    "!pip install sklearn"
   ]
  },
  {
   "cell_type": "markdown",
   "metadata": {},
   "source": [
    "## How to Read in Data"
   ]
  },
  {
   "cell_type": "markdown",
   "metadata": {},
   "source": [
    "There are several ways to read data into a dataframe. Below, you can see how data can be read in using Python built in file read in method, and Panda's read_csv method."
   ]
  },
  {
   "cell_type": "markdown",
   "metadata": {},
   "source": [
    "### Python's open and read function\n",
    "Here is an example of how Python open and read function can be used to read in a file into a list."
   ]
  },
  {
   "cell_type": "markdown",
   "metadata": {},
   "source": [
    "The open().read() function reads in the contents of a file into a string variable (in our case tweets)."
   ]
  },
  {
   "cell_type": "code",
   "execution_count": 2,
   "metadata": {},
   "outputs": [
    {
     "data": {
      "text/plain": [
       "'tweet,sentiment\\nHappy St. Patty\\'s Fri-yay! - Drinking a Guinness Original Extra Stout (Canada / USA) @ EaDo - https://t.co/hpOsiqG0jK #photo,0.267517\\n\"Delicious fritters! (at @Copper_Kettle_ Cafe in Waterdown, Ontario) https://t.co/nEAyFYFxkd\",0.456975\\nTrudeau government gifts $650 millions overseas to \\'kill\\' life and/or prevent procreation.He offers $120 million to feed the world in hunger,-0.283957\\n\"Thai food is HOT tonight (@ Pai in Toronto, ON w/ @tsangzillavs) https://t.co/Y1rqDVLib9\",-0.43'"
      ]
     },
     "execution_count": 2,
     "metadata": {},
     "output_type": "execute_result"
    }
   ],
   "source": [
    "tweets = open('tweets_dataset.csv','r').read()\n",
    "tweets[0:500]"
   ]
  },
  {
   "cell_type": "markdown",
   "metadata": {},
   "source": [
    "Now to split this string input into a list with each element containing a line of the file, we can use the split function. The split function will split a string wherever it finds the string argument passed to it. E.g, str.split('.') will split the str wherever it finds a '.'. In our case, to split by line, we split by the newline handle '\\n' which can be seen in the output above."
   ]
  },
  {
   "cell_type": "code",
   "execution_count": 3,
   "metadata": {},
   "outputs": [
    {
     "data": {
      "text/plain": [
       "['tweet,sentiment',\n",
       " \"Happy St. Patty's Fri-yay! - Drinking a Guinness Original Extra Stout (Canada / USA) @ EaDo - https://t.co/hpOsiqG0jK #photo,0.267517\",\n",
       " '\"Delicious fritters! (at @Copper_Kettle_ Cafe in Waterdown, Ontario) https://t.co/nEAyFYFxkd\",0.456975',\n",
       " \"Trudeau government gifts $650 millions overseas to 'kill' life and/or prevent procreation.He offers $120 million to feed the world in hunger,-0.283957\",\n",
       " '\"Thai food is HOT tonight (@ Pai in Toronto, ON w/ @tsangzillavs) https://t.co/Y1rqDVLib9\",-0.433962']"
      ]
     },
     "execution_count": 3,
     "metadata": {},
     "output_type": "execute_result"
    }
   ],
   "source": [
    "tweetsList = tweets.split('\\n')\n",
    "tweetsList[0:5]"
   ]
  },
  {
   "cell_type": "code",
   "execution_count": 4,
   "metadata": {},
   "outputs": [
    {
     "data": {
      "text/plain": [
       "['RT @CTVToronto: Toronto police searching for missing elderly man with dementia https://t.co/guwZ8FhGlJ https://t.co/BKb6u8mV6o,-0.390022',\n",
       " \"Oh ❤break. Rock+Roll legend Chuck Berry has died: https://t.co/uXFmAnLLcB I ❤'d him..but I've a friend who idolized him..he'll be crushed.,-0.792687\",\n",
       " '']"
      ]
     },
     "execution_count": 4,
     "metadata": {},
     "output_type": "execute_result"
    }
   ],
   "source": [
    "tweetsList[-3:]"
   ]
  },
  {
   "cell_type": "markdown",
   "metadata": {},
   "source": [
    "We will drop the first element (first line) because it only contains the headings of the documents, and we will drop the last element because it is empty.We can acheive this using the del function."
   ]
  },
  {
   "cell_type": "code",
   "execution_count": 5,
   "metadata": {},
   "outputs": [
    {
     "name": "stdout",
     "output_type": "stream",
     "text": [
      "[\"Happy St. Patty's Fri-yay! - Drinking a Guinness Original Extra Stout (Canada / USA) @ EaDo - https://t.co/hpOsiqG0jK #photo,0.267517\", '\"Delicious fritters! (at @Copper_Kettle_ Cafe in Waterdown, Ontario) https://t.co/nEAyFYFxkd\",0.456975', \"Trudeau government gifts $650 millions overseas to 'kill' life and/or prevent procreation.He offers $120 million to feed the world in hunger,-0.283957\", '\"Thai food is HOT tonight (@ Pai in Toronto, ON w/ @tsangzillavs) https://t.co/Y1rqDVLib9\",-0.433962', '\"The iconic Zanzibar (pictured here) has been ordered by the City of Toronto, to take down its tv screen due to city? https://t.co/qXP5pjVGym\",0.568962']\n",
      "['RT @CTVToronto: Toronto police searching for missing elderly man with dementia https://t.co/guwZ8FhGlJ https://t.co/BKb6u8mV6o,-0.390022', \"Oh ❤break. Rock+Roll legend Chuck Berry has died: https://t.co/uXFmAnLLcB I ❤'d him..but I've a friend who idolized him..he'll be crushed.,-0.792687\"]\n"
     ]
    }
   ],
   "source": [
    "del tweetsList[0] # delete first element\n",
    "del tweetsList[-1] # delete last element\n",
    "print (tweetsList[0:5])\n",
    "print (tweetsList[-2:])"
   ]
  },
  {
   "cell_type": "code",
   "execution_count": 6,
   "metadata": {},
   "outputs": [
    {
     "data": {
      "text/plain": [
       "\"Trudeau government gifts $650 millions overseas to 'kill' life and/or prevent procreation.He offers $120 million to feed the world in hunger,-0.283957\""
      ]
     },
     "execution_count": 6,
     "metadata": {},
     "output_type": "execute_result"
    }
   ],
   "source": [
    "tweetsList[2]"
   ]
  },
  {
   "cell_type": "code",
   "execution_count": 7,
   "metadata": {},
   "outputs": [
    {
     "data": {
      "text/plain": [
       "'\"Thai food is HOT tonight (@ Pai in Toronto, ON w/ @tsangzillavs) https://t.co/Y1rqDVLib9\",-0.433962'"
      ]
     },
     "execution_count": 7,
     "metadata": {},
     "output_type": "execute_result"
    }
   ],
   "source": [
    "tweetsList[3]"
   ]
  },
  {
   "cell_type": "markdown",
   "metadata": {},
   "source": [
    "We can see that each line has the sentiment score stored at the end of the tweet separated by a comma. To separate this using for expressions. Here note that when splitting with commas, the commas in the tweet would also cause splits but since the sentiment is always at the end, the final element of split string is the sentiment. We can access the final element of the string by using '-1'. We will also typecast the sentiments which are currently stored as strings to floats."
   ]
  },
  {
   "cell_type": "markdown",
   "metadata": {},
   "source": [
    "We can also see the some tweets are led by \" that we need to remove to cleanly read the string."
   ]
  },
  {
   "cell_type": "markdown",
   "metadata": {},
   "source": [
    "### Processing one tweet\n",
    "\n",
    "Split string by commas"
   ]
  },
  {
   "cell_type": "code",
   "execution_count": 8,
   "metadata": {},
   "outputs": [
    {
     "data": {
      "text/plain": [
       "['\"Thai food is HOT tonight (@ Pai in Toronto',\n",
       " ' ON w/ @tsangzillavs) https://t.co/Y1rqDVLib9\"',\n",
       " '-0.433962']"
      ]
     },
     "execution_count": 8,
     "metadata": {},
     "output_type": "execute_result"
    }
   ],
   "source": [
    "tweetsList[3].split(',')"
   ]
  },
  {
   "cell_type": "markdown",
   "metadata": {},
   "source": [
    "Select the first part of the string (ignoring the sentiment)"
   ]
  },
  {
   "cell_type": "code",
   "execution_count": 9,
   "metadata": {},
   "outputs": [
    {
     "data": {
      "text/plain": [
       "['\"Delicious fritters! (at @Copper_Kettle_ Cafe in Waterdown',\n",
       " ' Ontario) https://t.co/nEAyFYFxkd\"']"
      ]
     },
     "execution_count": 9,
     "metadata": {},
     "output_type": "execute_result"
    }
   ],
   "source": [
    "tweetsList[1].split(',')[:-1]"
   ]
  },
  {
   "cell_type": "markdown",
   "metadata": {},
   "source": [
    "The tweet is currently stored inside a list in the first index. "
   ]
  },
  {
   "cell_type": "code",
   "execution_count": 10,
   "metadata": {},
   "outputs": [
    {
     "data": {
      "text/plain": [
       "'\"Delicious fritters! (at @Copper_Kettle_ Cafe in Waterdown'"
      ]
     },
     "execution_count": 10,
     "metadata": {},
     "output_type": "execute_result"
    }
   ],
   "source": [
    "tweetsList[1].split(',')[:-1][0]"
   ]
  },
  {
   "cell_type": "markdown",
   "metadata": {},
   "source": [
    "Now strip the first character if it is a \"."
   ]
  },
  {
   "cell_type": "code",
   "execution_count": 11,
   "metadata": {},
   "outputs": [
    {
     "data": {
      "text/plain": [
       "'Delicious fritters! (at @Copper_Kettle_ Cafe in Waterdown'"
      ]
     },
     "execution_count": 11,
     "metadata": {},
     "output_type": "execute_result"
    }
   ],
   "source": [
    "tweetsList[1].split(',')[:-1][0].lstrip('\"')"
   ]
  },
  {
   "cell_type": "markdown",
   "metadata": {},
   "source": [
    "### Apply to all"
   ]
  },
  {
   "cell_type": "code",
   "execution_count": 12,
   "metadata": {},
   "outputs": [],
   "source": [
    "tweets = [tw.split(',')[:-1][0].lstrip('\"') for tw in tweetsList]\n",
    "sentiments = [float(tw.split(',')[-1]) for tw in tweetsList]"
   ]
  },
  {
   "cell_type": "code",
   "execution_count": 13,
   "metadata": {},
   "outputs": [
    {
     "name": "stdout",
     "output_type": "stream",
     "text": [
      "[\"Happy St. Patty's Fri-yay! - Drinking a Guinness Original Extra Stout (Canada / USA) @ EaDo - https://t.co/hpOsiqG0jK #photo\", 'Delicious fritters! (at @Copper_Kettle_ Cafe in Waterdown', \"Trudeau government gifts $650 millions overseas to 'kill' life and/or prevent procreation.He offers $120 million to feed the world in hunger\", 'Thai food is HOT tonight (@ Pai in Toronto', 'The iconic Zanzibar (pictured here) has been ordered by the City of Toronto']\n"
     ]
    }
   ],
   "source": [
    "print(tweets[0:5])"
   ]
  },
  {
   "cell_type": "code",
   "execution_count": 14,
   "metadata": {},
   "outputs": [
    {
     "name": "stdout",
     "output_type": "stream",
     "text": [
      "[0.267517, 0.456975, -0.283957, -0.433962, 0.568962]\n"
     ]
    }
   ],
   "source": [
    "print(sentiments[0:5])"
   ]
  },
  {
   "cell_type": "markdown",
   "metadata": {},
   "source": [
    "### Create a pandas dataframe\n",
    "\n",
    "Now to convert these two lists into dataframes. We can use the following:"
   ]
  },
  {
   "cell_type": "code",
   "execution_count": 15,
   "metadata": {},
   "outputs": [
    {
     "data": {
      "text/html": [
       "<div>\n",
       "<style scoped>\n",
       "    .dataframe tbody tr th:only-of-type {\n",
       "        vertical-align: middle;\n",
       "    }\n",
       "\n",
       "    .dataframe tbody tr th {\n",
       "        vertical-align: top;\n",
       "    }\n",
       "\n",
       "    .dataframe thead th {\n",
       "        text-align: right;\n",
       "    }\n",
       "</style>\n",
       "<table border=\"1\" class=\"dataframe\">\n",
       "  <thead>\n",
       "    <tr style=\"text-align: right;\">\n",
       "      <th></th>\n",
       "      <th>tweets</th>\n",
       "      <th>sentiment</th>\n",
       "    </tr>\n",
       "  </thead>\n",
       "  <tbody>\n",
       "    <tr>\n",
       "      <th>0</th>\n",
       "      <td>Happy St. Patty's Fri-yay! - Drinking a Guinne...</td>\n",
       "      <td>0.267517</td>\n",
       "    </tr>\n",
       "    <tr>\n",
       "      <th>1</th>\n",
       "      <td>Delicious fritters! (at @Copper_Kettle_ Cafe i...</td>\n",
       "      <td>0.456975</td>\n",
       "    </tr>\n",
       "    <tr>\n",
       "      <th>2</th>\n",
       "      <td>Trudeau government gifts $650 millions oversea...</td>\n",
       "      <td>-0.283957</td>\n",
       "    </tr>\n",
       "    <tr>\n",
       "      <th>3</th>\n",
       "      <td>Thai food is HOT tonight (@ Pai in Toronto</td>\n",
       "      <td>-0.433962</td>\n",
       "    </tr>\n",
       "    <tr>\n",
       "      <th>4</th>\n",
       "      <td>The iconic Zanzibar (pictured here) has been o...</td>\n",
       "      <td>0.568962</td>\n",
       "    </tr>\n",
       "  </tbody>\n",
       "</table>\n",
       "</div>"
      ],
      "text/plain": [
       "                                              tweets  sentiment\n",
       "0  Happy St. Patty's Fri-yay! - Drinking a Guinne...   0.267517\n",
       "1  Delicious fritters! (at @Copper_Kettle_ Cafe i...   0.456975\n",
       "2  Trudeau government gifts $650 millions oversea...  -0.283957\n",
       "3         Thai food is HOT tonight (@ Pai in Toronto  -0.433962\n",
       "4  The iconic Zanzibar (pictured here) has been o...   0.568962"
      ]
     },
     "execution_count": 15,
     "metadata": {},
     "output_type": "execute_result"
    }
   ],
   "source": [
    "import pandas as pd\n",
    "\n",
    "df = pd.DataFrame ({\n",
    "        'tweets': tweets,\n",
    "        'sentiment':sentiments\n",
    "})\n",
    "\n",
    "df.head()"
   ]
  },
  {
   "cell_type": "markdown",
   "metadata": {},
   "source": [
    "### Panda's read_csv function\n",
    "\n",
    "A simpler way to do the above is with Panda's read_csv function as seen below. This will read a csv file directly into a pandas dataframe. This may file if your file you're trying to read in isn't properly structured."
   ]
  },
  {
   "cell_type": "code",
   "execution_count": 16,
   "metadata": {
    "scrolled": true
   },
   "outputs": [
    {
     "data": {
      "text/html": [
       "<div>\n",
       "<style scoped>\n",
       "    .dataframe tbody tr th:only-of-type {\n",
       "        vertical-align: middle;\n",
       "    }\n",
       "\n",
       "    .dataframe tbody tr th {\n",
       "        vertical-align: top;\n",
       "    }\n",
       "\n",
       "    .dataframe thead th {\n",
       "        text-align: right;\n",
       "    }\n",
       "</style>\n",
       "<table border=\"1\" class=\"dataframe\">\n",
       "  <thead>\n",
       "    <tr style=\"text-align: right;\">\n",
       "      <th></th>\n",
       "      <th>tweet</th>\n",
       "      <th>sentiment</th>\n",
       "    </tr>\n",
       "  </thead>\n",
       "  <tbody>\n",
       "    <tr>\n",
       "      <th>0</th>\n",
       "      <td>Happy St. Patty's Fri-yay! - Drinking a Guinne...</td>\n",
       "      <td>0.267517</td>\n",
       "    </tr>\n",
       "    <tr>\n",
       "      <th>1</th>\n",
       "      <td>Delicious fritters! (at @Copper_Kettle_ Cafe i...</td>\n",
       "      <td>0.456975</td>\n",
       "    </tr>\n",
       "    <tr>\n",
       "      <th>2</th>\n",
       "      <td>Trudeau government gifts $650 millions oversea...</td>\n",
       "      <td>-0.283957</td>\n",
       "    </tr>\n",
       "    <tr>\n",
       "      <th>3</th>\n",
       "      <td>Thai food is HOT tonight (@ Pai in Toronto, ON...</td>\n",
       "      <td>-0.433962</td>\n",
       "    </tr>\n",
       "    <tr>\n",
       "      <th>4</th>\n",
       "      <td>The iconic Zanzibar (pictured here) has been o...</td>\n",
       "      <td>0.568962</td>\n",
       "    </tr>\n",
       "  </tbody>\n",
       "</table>\n",
       "</div>"
      ],
      "text/plain": [
       "                                               tweet  sentiment\n",
       "0  Happy St. Patty's Fri-yay! - Drinking a Guinne...   0.267517\n",
       "1  Delicious fritters! (at @Copper_Kettle_ Cafe i...   0.456975\n",
       "2  Trudeau government gifts $650 millions oversea...  -0.283957\n",
       "3  Thai food is HOT tonight (@ Pai in Toronto, ON...  -0.433962\n",
       "4  The iconic Zanzibar (pictured here) has been o...   0.568962"
      ]
     },
     "execution_count": 16,
     "metadata": {},
     "output_type": "execute_result"
    }
   ],
   "source": [
    "df = pd.read_csv('tweets_dataset.csv')\n",
    "df.head()"
   ]
  },
  {
   "cell_type": "markdown",
   "metadata": {},
   "source": [
    "## String Manipulation\n",
    "As part of these assignment, you have to remove elements from a string. There are a couple ways to do this. Here is how you can do it with Python's replace function.\n",
    "\n",
    "For this example, we will use the first tweet of the dataframe and we will access it using Pandas '.iloc' function, which lets us access rows by index number."
   ]
  },
  {
   "cell_type": "code",
   "execution_count": 17,
   "metadata": {},
   "outputs": [
    {
     "data": {
      "text/plain": [
       "\"Happy St. Patty's Fri-yay! - Drinking a Guinness Original Extra Stout (Canada / USA) @ EaDo - https://t.co/hpOsiqG0jK #photo\""
      ]
     },
     "execution_count": 17,
     "metadata": {},
     "output_type": "execute_result"
    }
   ],
   "source": [
    "tw = df.iloc[0]['tweet']\n",
    "tw"
   ]
  },
  {
   "cell_type": "markdown",
   "metadata": {},
   "source": [
    "### Python's replace Function\n",
    "Here will use the replace function to replace periods(.) in the tweet with nothing (''). The replace function takes 2 arguments: (1) What to replace, and (2) What to replace it with."
   ]
  },
  {
   "cell_type": "code",
   "execution_count": 18,
   "metadata": {},
   "outputs": [
    {
     "data": {
      "text/plain": [
       "\"Happy St Patty's Fri-yay! - Drinking a Guinness Original Extra Stout (Canada / USA) @ EaDo - https://tco/hpOsiqG0jK #photo\""
      ]
     },
     "execution_count": 18,
     "metadata": {},
     "output_type": "execute_result"
    }
   ],
   "source": [
    "tw.replace('.','')"
   ]
  },
  {
   "cell_type": "markdown",
   "metadata": {},
   "source": [
    "Please note, you don't need to do something as direct as this to clean your tweets. You can use pre-existing libraries for cleaning your tweets, such as nltk, an open-source natural language processing toolkit. For example, nltk has a method for removing stop words from strings that you may use. Alternatively, you may use the files provided to remove the stop words listed within it. "
   ]
  },
  {
   "cell_type": "markdown",
   "metadata": {},
   "source": [
    "## Exploratory Data Analysis"
   ]
  },
  {
   "cell_type": "markdown",
   "metadata": {},
   "source": [
    "Here is an example of how you can visually analyze your data. First I will define negative tweets as any tweets that have a sentiment score less than 0 and label this as 0, and define positive tweets as any tweets that have a sentiment score greater than 0 and label this as 1.\n",
    "\n",
    "To apply a function to a dataframe I can use the apply function. To define a function inline I can apply the lambda function. The lambda function will return 1 if the sentiment score is greater than 0 and 0 otherwise."
   ]
  },
  {
   "cell_type": "code",
   "execution_count": 19,
   "metadata": {},
   "outputs": [
    {
     "data": {
      "text/html": [
       "<div>\n",
       "<style scoped>\n",
       "    .dataframe tbody tr th:only-of-type {\n",
       "        vertical-align: middle;\n",
       "    }\n",
       "\n",
       "    .dataframe tbody tr th {\n",
       "        vertical-align: top;\n",
       "    }\n",
       "\n",
       "    .dataframe thead th {\n",
       "        text-align: right;\n",
       "    }\n",
       "</style>\n",
       "<table border=\"1\" class=\"dataframe\">\n",
       "  <thead>\n",
       "    <tr style=\"text-align: right;\">\n",
       "      <th></th>\n",
       "      <th>tweet</th>\n",
       "      <th>sentiment</th>\n",
       "      <th>score</th>\n",
       "    </tr>\n",
       "  </thead>\n",
       "  <tbody>\n",
       "    <tr>\n",
       "      <th>0</th>\n",
       "      <td>Happy St. Patty's Fri-yay! - Drinking a Guinne...</td>\n",
       "      <td>0.267517</td>\n",
       "      <td>1</td>\n",
       "    </tr>\n",
       "    <tr>\n",
       "      <th>1</th>\n",
       "      <td>Delicious fritters! (at @Copper_Kettle_ Cafe i...</td>\n",
       "      <td>0.456975</td>\n",
       "      <td>1</td>\n",
       "    </tr>\n",
       "    <tr>\n",
       "      <th>2</th>\n",
       "      <td>Trudeau government gifts $650 millions oversea...</td>\n",
       "      <td>-0.283957</td>\n",
       "      <td>0</td>\n",
       "    </tr>\n",
       "    <tr>\n",
       "      <th>3</th>\n",
       "      <td>Thai food is HOT tonight (@ Pai in Toronto, ON...</td>\n",
       "      <td>-0.433962</td>\n",
       "      <td>0</td>\n",
       "    </tr>\n",
       "    <tr>\n",
       "      <th>4</th>\n",
       "      <td>The iconic Zanzibar (pictured here) has been o...</td>\n",
       "      <td>0.568962</td>\n",
       "      <td>1</td>\n",
       "    </tr>\n",
       "  </tbody>\n",
       "</table>\n",
       "</div>"
      ],
      "text/plain": [
       "                                               tweet  sentiment  score\n",
       "0  Happy St. Patty's Fri-yay! - Drinking a Guinne...   0.267517      1\n",
       "1  Delicious fritters! (at @Copper_Kettle_ Cafe i...   0.456975      1\n",
       "2  Trudeau government gifts $650 millions oversea...  -0.283957      0\n",
       "3  Thai food is HOT tonight (@ Pai in Toronto, ON...  -0.433962      0\n",
       "4  The iconic Zanzibar (pictured here) has been o...   0.568962      1"
      ]
     },
     "execution_count": 19,
     "metadata": {},
     "output_type": "execute_result"
    }
   ],
   "source": [
    "df['score'] = df['sentiment'].apply(lambda x: 1 if x > 0 else 0)\n",
    "df.head()"
   ]
  },
  {
   "cell_type": "markdown",
   "metadata": {},
   "source": [
    "I will also define another column containing the length of the tweets called length:"
   ]
  },
  {
   "cell_type": "code",
   "execution_count": 20,
   "metadata": {},
   "outputs": [
    {
     "data": {
      "text/html": [
       "<div>\n",
       "<style scoped>\n",
       "    .dataframe tbody tr th:only-of-type {\n",
       "        vertical-align: middle;\n",
       "    }\n",
       "\n",
       "    .dataframe tbody tr th {\n",
       "        vertical-align: top;\n",
       "    }\n",
       "\n",
       "    .dataframe thead th {\n",
       "        text-align: right;\n",
       "    }\n",
       "</style>\n",
       "<table border=\"1\" class=\"dataframe\">\n",
       "  <thead>\n",
       "    <tr style=\"text-align: right;\">\n",
       "      <th></th>\n",
       "      <th>tweet</th>\n",
       "      <th>sentiment</th>\n",
       "      <th>score</th>\n",
       "      <th>length</th>\n",
       "    </tr>\n",
       "  </thead>\n",
       "  <tbody>\n",
       "    <tr>\n",
       "      <th>0</th>\n",
       "      <td>Happy St. Patty's Fri-yay! - Drinking a Guinne...</td>\n",
       "      <td>0.267517</td>\n",
       "      <td>1</td>\n",
       "      <td>124</td>\n",
       "    </tr>\n",
       "    <tr>\n",
       "      <th>1</th>\n",
       "      <td>Delicious fritters! (at @Copper_Kettle_ Cafe i...</td>\n",
       "      <td>0.456975</td>\n",
       "      <td>1</td>\n",
       "      <td>91</td>\n",
       "    </tr>\n",
       "    <tr>\n",
       "      <th>2</th>\n",
       "      <td>Trudeau government gifts $650 millions oversea...</td>\n",
       "      <td>-0.283957</td>\n",
       "      <td>0</td>\n",
       "      <td>140</td>\n",
       "    </tr>\n",
       "    <tr>\n",
       "      <th>3</th>\n",
       "      <td>Thai food is HOT tonight (@ Pai in Toronto, ON...</td>\n",
       "      <td>-0.433962</td>\n",
       "      <td>0</td>\n",
       "      <td>88</td>\n",
       "    </tr>\n",
       "    <tr>\n",
       "      <th>4</th>\n",
       "      <td>The iconic Zanzibar (pictured here) has been o...</td>\n",
       "      <td>0.568962</td>\n",
       "      <td>1</td>\n",
       "      <td>140</td>\n",
       "    </tr>\n",
       "  </tbody>\n",
       "</table>\n",
       "</div>"
      ],
      "text/plain": [
       "                                               tweet  sentiment  score  length\n",
       "0  Happy St. Patty's Fri-yay! - Drinking a Guinne...   0.267517      1     124\n",
       "1  Delicious fritters! (at @Copper_Kettle_ Cafe i...   0.456975      1      91\n",
       "2  Trudeau government gifts $650 millions oversea...  -0.283957      0     140\n",
       "3  Thai food is HOT tonight (@ Pai in Toronto, ON...  -0.433962      0      88\n",
       "4  The iconic Zanzibar (pictured here) has been o...   0.568962      1     140"
      ]
     },
     "execution_count": 20,
     "metadata": {},
     "output_type": "execute_result"
    }
   ],
   "source": [
    "df['length'] = df['tweet'].apply(len)\n",
    "df.head()"
   ]
  },
  {
   "cell_type": "markdown",
   "metadata": {},
   "source": [
    "Now, here we will use the hist plot from pandas to do simple visualizations of our two new columns. You could alternatively use other visualization libraries like matplotlib or seaborn to create more intricate plots.\n",
    "\n",
    "The following line is needed in notebooks to show plots inline."
   ]
  },
  {
   "cell_type": "code",
   "execution_count": 21,
   "metadata": {},
   "outputs": [],
   "source": [
    "import matplotlib.pyplot as plt\n",
    "\n",
    "%matplotlib inline"
   ]
  },
  {
   "cell_type": "markdown",
   "metadata": {},
   "source": [
    "First, lets plot the distribution of scores using pandas hist function."
   ]
  },
  {
   "cell_type": "code",
   "execution_count": 22,
   "metadata": {},
   "outputs": [
    {
     "data": {
      "text/plain": [
       "array([[<matplotlib.axes._subplots.AxesSubplot object at 0x7fe96f0db5c0>]],\n",
       "      dtype=object)"
      ]
     },
     "execution_count": 22,
     "metadata": {},
     "output_type": "execute_result"
    },
    {
     "data": {
      "text/plain": [
       "<Figure size 864x432 with 0 Axes>"
      ]
     },
     "metadata": {},
     "output_type": "display_data"
    },
    {
     "data": {
      "image/png": "[encoded data removed]",
      "text/plain": [
       "<Figure size 432x288 with 1 Axes>"
      ]
     },
     "metadata": {},
     "output_type": "display_data"
    }
   ],
   "source": [
    "fig = plt.figure(figsize=(12,6))\n",
    "df.hist('score')"
   ]
  },
  {
   "cell_type": "markdown",
   "metadata": {},
   "source": [
    "From this, you can see that there are more negative tweets than positive tweets.\n",
    "\n",
    "Now let's plot the histograms of length split by the score value."
   ]
  },
  {
   "cell_type": "code",
   "execution_count": 23,
   "metadata": {},
   "outputs": [
    {
     "data": {
      "text/plain": [
       "array([<matplotlib.axes._subplots.AxesSubplot object at 0x7fe96ceb2d68>,\n",
       "       <matplotlib.axes._subplots.AxesSubplot object at 0x7fe96ce64240>],\n",
       "      dtype=object)"
      ]
     },
     "execution_count": 23,
     "metadata": {},
     "output_type": "execute_result"
    },
    {
     "data": {
      "image/png": "[encoded data removed]",
      "text/plain": [
       "<Figure size 432x288 with 2 Axes>"
      ]
     },
     "metadata": {},
     "output_type": "display_data"
    }
   ],
   "source": [
    "df.hist('length',by='score')"
   ]
  },
  {
   "cell_type": "markdown",
   "metadata": {},
   "source": [
    "The distributions of length for both positive and negative are similar but the tail for positive tweets is more heavy than for negative tweets. A majority of the negative tweets are long."
   ]
  },
  {
   "cell_type": "markdown",
   "metadata": {},
   "source": [
    "## Machine Learning\n",
    "\n",
    "Now, lets use our two new plots to do some machine learning using scikit-learn. \n",
    "\n",
    "Note: Scikit-learn requires numerical inputs. You cannot pass the tweets directly into the a model. You have to first convert the tweets to some sort of numerical format. You are welcome to use the 'corpus' scores provided to convert your tweets into a corpus score, or you may use something more involved like the TF-IDF vectorizer from scikit-learn. The method that you use can have a great impact on your machine learning results.\n",
    "\n",
    "For the purposes of this tutorial, we will just use the length column to see if we can predict the score column.\n",
    "\n",
    "### Splitting features/target variables\n",
    "\n",
    "First, we will extract our features into the variable X, and our target into the variable y."
   ]
  },
  {
   "cell_type": "code",
   "execution_count": 24,
   "metadata": {},
   "outputs": [
    {
     "data": {
      "text/html": [
       "<div>\n",
       "<style scoped>\n",
       "    .dataframe tbody tr th:only-of-type {\n",
       "        vertical-align: middle;\n",
       "    }\n",
       "\n",
       "    .dataframe tbody tr th {\n",
       "        vertical-align: top;\n",
       "    }\n",
       "\n",
       "    .dataframe thead th {\n",
       "        text-align: right;\n",
       "    }\n",
       "</style>\n",
       "<table border=\"1\" class=\"dataframe\">\n",
       "  <thead>\n",
       "    <tr style=\"text-align: right;\">\n",
       "      <th></th>\n",
       "      <th>tweet</th>\n",
       "      <th>sentiment</th>\n",
       "      <th>score</th>\n",
       "      <th>length</th>\n",
       "    </tr>\n",
       "  </thead>\n",
       "  <tbody>\n",
       "    <tr>\n",
       "      <th>0</th>\n",
       "      <td>Happy St. Patty's Fri-yay! - Drinking a Guinne...</td>\n",
       "      <td>0.267517</td>\n",
       "      <td>1</td>\n",
       "      <td>124</td>\n",
       "    </tr>\n",
       "    <tr>\n",
       "      <th>1</th>\n",
       "      <td>Delicious fritters! (at @Copper_Kettle_ Cafe i...</td>\n",
       "      <td>0.456975</td>\n",
       "      <td>1</td>\n",
       "      <td>91</td>\n",
       "    </tr>\n",
       "    <tr>\n",
       "      <th>2</th>\n",
       "      <td>Trudeau government gifts $650 millions oversea...</td>\n",
       "      <td>-0.283957</td>\n",
       "      <td>0</td>\n",
       "      <td>140</td>\n",
       "    </tr>\n",
       "    <tr>\n",
       "      <th>3</th>\n",
       "      <td>Thai food is HOT tonight (@ Pai in Toronto, ON...</td>\n",
       "      <td>-0.433962</td>\n",
       "      <td>0</td>\n",
       "      <td>88</td>\n",
       "    </tr>\n",
       "    <tr>\n",
       "      <th>4</th>\n",
       "      <td>The iconic Zanzibar (pictured here) has been o...</td>\n",
       "      <td>0.568962</td>\n",
       "      <td>1</td>\n",
       "      <td>140</td>\n",
       "    </tr>\n",
       "    <tr>\n",
       "      <th>5</th>\n",
       "      <td>Feel like Trump is wrong about having ANYTHING...</td>\n",
       "      <td>-0.746078</td>\n",
       "      <td>0</td>\n",
       "      <td>142</td>\n",
       "    </tr>\n",
       "    <tr>\n",
       "      <th>6</th>\n",
       "      <td>Buona Notte. Really interesting.  Especially #...</td>\n",
       "      <td>0.578655</td>\n",
       "      <td>1</td>\n",
       "      <td>91</td>\n",
       "    </tr>\n",
       "    <tr>\n",
       "      <th>7</th>\n",
       "      <td>It's 'cos he doesn't admit that a woman can be...</td>\n",
       "      <td>-0.612578</td>\n",
       "      <td>0</td>\n",
       "      <td>140</td>\n",
       "    </tr>\n",
       "    <tr>\n",
       "      <th>8</th>\n",
       "      <td>Great news for travelers to Canada - the E311 ...</td>\n",
       "      <td>0.621163</td>\n",
       "      <td>1</td>\n",
       "      <td>140</td>\n",
       "    </tr>\n",
       "    <tr>\n",
       "      <th>9</th>\n",
       "      <td>Hey @gemaker . Has your little rocket person g...</td>\n",
       "      <td>-0.698258</td>\n",
       "      <td>0</td>\n",
       "      <td>111</td>\n",
       "    </tr>\n",
       "    <tr>\n",
       "      <th>10</th>\n",
       "      <td>https://t.co/kbteCDJO5E  Canada elected to glo...</td>\n",
       "      <td>0.565689</td>\n",
       "      <td>1</td>\n",
       "      <td>138</td>\n",
       "    </tr>\n",
       "    <tr>\n",
       "      <th>11</th>\n",
       "      <td>'This pace cannot last forever': 2 big banks s...</td>\n",
       "      <td>-0.722045</td>\n",
       "      <td>0</td>\n",
       "      <td>104</td>\n",
       "    </tr>\n",
       "    <tr>\n",
       "      <th>12</th>\n",
       "      <td>@TheTwinPowers Great-I have this one: to go to...</td>\n",
       "      <td>-0.353825</td>\n",
       "      <td>0</td>\n",
       "      <td>140</td>\n",
       "    </tr>\n",
       "    <tr>\n",
       "      <th>13</th>\n",
       "      <td>Lol. Trumps probably scared of Merkel pulling ...</td>\n",
       "      <td>-0.591843</td>\n",
       "      <td>0</td>\n",
       "      <td>84</td>\n",
       "    </tr>\n",
       "    <tr>\n",
       "      <th>14</th>\n",
       "      <td>Dubai by night!??? #dubai #mydubai #emirates #...</td>\n",
       "      <td>0.595444</td>\n",
       "      <td>1</td>\n",
       "      <td>87</td>\n",
       "    </tr>\n",
       "    <tr>\n",
       "      <th>15</th>\n",
       "      <td>Canada to give $119M in aid to Middle East and...</td>\n",
       "      <td>-0.420158</td>\n",
       "      <td>0</td>\n",
       "      <td>110</td>\n",
       "    </tr>\n",
       "    <tr>\n",
       "      <th>16</th>\n",
       "      <td>City-dwellers are prone to depression ? are hi...</td>\n",
       "      <td>-0.745565</td>\n",
       "      <td>0</td>\n",
       "      <td>89</td>\n",
       "    </tr>\n",
       "    <tr>\n",
       "      <th>17</th>\n",
       "      <td>If it wasn't for drake Toronto would be irrele...</td>\n",
       "      <td>-0.545131</td>\n",
       "      <td>0</td>\n",
       "      <td>50</td>\n",
       "    </tr>\n",
       "    <tr>\n",
       "      <th>18</th>\n",
       "      <td>Danny from Quebec, Canada. Shredding all morni...</td>\n",
       "      <td>0.445054</td>\n",
       "      <td>1</td>\n",
       "      <td>119</td>\n",
       "    </tr>\n",
       "    <tr>\n",
       "      <th>19</th>\n",
       "      <td>.@GwapoMarcp Pagcaliwangan weighs 123.6, Emman...</td>\n",
       "      <td>0.424103</td>\n",
       "      <td>1</td>\n",
       "      <td>139</td>\n",
       "    </tr>\n",
       "    <tr>\n",
       "      <th>20</th>\n",
       "      <td>[Canada should prepare for new technology spur...</td>\n",
       "      <td>-0.322767</td>\n",
       "      <td>0</td>\n",
       "      <td>136</td>\n",
       "    </tr>\n",
       "    <tr>\n",
       "      <th>21</th>\n",
       "      <td>in case you were wondering how Canada feels ht...</td>\n",
       "      <td>-0.578922</td>\n",
       "      <td>0</td>\n",
       "      <td>67</td>\n",
       "    </tr>\n",
       "    <tr>\n",
       "      <th>22</th>\n",
       "      <td>Welcome shinee in toronto</td>\n",
       "      <td>0.787968</td>\n",
       "      <td>1</td>\n",
       "      <td>25</td>\n",
       "    </tr>\n",
       "    <tr>\n",
       "      <th>23</th>\n",
       "      <td>Till tomm babe~ #??? #?? ?? Travel safe in Can...</td>\n",
       "      <td>0.544413</td>\n",
       "      <td>1</td>\n",
       "      <td>104</td>\n",
       "    </tr>\n",
       "    <tr>\n",
       "      <th>24</th>\n",
       "      <td>About to go live on CTV Canada to talk about M...</td>\n",
       "      <td>-0.283283</td>\n",
       "      <td>0</td>\n",
       "      <td>115</td>\n",
       "    </tr>\n",
       "    <tr>\n",
       "      <th>25</th>\n",
       "      <td>My grandmother's weaving #chinchorrowayuu I'll...</td>\n",
       "      <td>0.563940</td>\n",
       "      <td>1</td>\n",
       "      <td>140</td>\n",
       "    </tr>\n",
       "    <tr>\n",
       "      <th>26</th>\n",
       "      <td>My Canadian friend went to Russia and was atta...</td>\n",
       "      <td>-0.332980</td>\n",
       "      <td>0</td>\n",
       "      <td>129</td>\n",
       "    </tr>\n",
       "    <tr>\n",
       "      <th>27</th>\n",
       "      <td>@kausmickey @AnnCoulter look at the donor list...</td>\n",
       "      <td>0.829516</td>\n",
       "      <td>1</td>\n",
       "      <td>136</td>\n",
       "    </tr>\n",
       "    <tr>\n",
       "      <th>28</th>\n",
       "      <td>@candiesbling With the twists BB does in Canad...</td>\n",
       "      <td>0.660930</td>\n",
       "      <td>1</td>\n",
       "      <td>93</td>\n",
       "    </tr>\n",
       "    <tr>\n",
       "      <th>29</th>\n",
       "      <td>Looking at the weather forecast in Toronto I h...</td>\n",
       "      <td>-0.449340</td>\n",
       "      <td>0</td>\n",
       "      <td>134</td>\n",
       "    </tr>\n",
       "    <tr>\n",
       "      <th>...</th>\n",
       "      <td>...</td>\n",
       "      <td>...</td>\n",
       "      <td>...</td>\n",
       "      <td>...</td>\n",
       "    </tr>\n",
       "    <tr>\n",
       "      <th>1572</th>\n",
       "      <td>Top 10 Canada Waterfalls for a Memorable Famil...</td>\n",
       "      <td>0.760825</td>\n",
       "      <td>1</td>\n",
       "      <td>104</td>\n",
       "    </tr>\n",
       "    <tr>\n",
       "      <th>1573</th>\n",
       "      <td>RT @GlennMcmillan14: #Trudeau!!what Western Na...</td>\n",
       "      <td>0.406331</td>\n",
       "      <td>1</td>\n",
       "      <td>144</td>\n",
       "    </tr>\n",
       "    <tr>\n",
       "      <th>1574</th>\n",
       "      <td>RT @zeezsalau: We are going to shut down toron...</td>\n",
       "      <td>-0.330262</td>\n",
       "      <td>0</td>\n",
       "      <td>118</td>\n",
       "    </tr>\n",
       "    <tr>\n",
       "      <th>1575</th>\n",
       "      <td>Toronto's Qualified Contractor to ensure a Str...</td>\n",
       "      <td>0.713723</td>\n",
       "      <td>1</td>\n",
       "      <td>96</td>\n",
       "    </tr>\n",
       "    <tr>\n",
       "      <th>1576</th>\n",
       "      <td>Don't get how people rate this Canadian fraud</td>\n",
       "      <td>-0.590935</td>\n",
       "      <td>0</td>\n",
       "      <td>45</td>\n",
       "    </tr>\n",
       "    <tr>\n",
       "      <th>1577</th>\n",
       "      <td>10 Things to Do This Spring in Toronto - https...</td>\n",
       "      <td>-0.428431</td>\n",
       "      <td>0</td>\n",
       "      <td>106</td>\n",
       "    </tr>\n",
       "    <tr>\n",
       "      <th>1578</th>\n",
       "      <td>RT @BBCRadio4: 'Legend' would be an understate...</td>\n",
       "      <td>-0.618580</td>\n",
       "      <td>0</td>\n",
       "      <td>130</td>\n",
       "    </tr>\n",
       "    <tr>\n",
       "      <th>1579</th>\n",
       "      <td>@ffweekend I'm telling you let them all go to ...</td>\n",
       "      <td>0.477734</td>\n",
       "      <td>1</td>\n",
       "      <td>145</td>\n",
       "    </tr>\n",
       "    <tr>\n",
       "      <th>1580</th>\n",
       "      <td>@NimApple for keysnote's, yes you will need on...</td>\n",
       "      <td>-0.404030</td>\n",
       "      <td>0</td>\n",
       "      <td>76</td>\n",
       "    </tr>\n",
       "    <tr>\n",
       "      <th>1581</th>\n",
       "      <td>RT @DrRimmer: Eli Lilly has lost its #ISDS act...</td>\n",
       "      <td>-0.330432</td>\n",
       "      <td>0</td>\n",
       "      <td>139</td>\n",
       "    </tr>\n",
       "    <tr>\n",
       "      <th>1582</th>\n",
       "      <td>RT @EarthBeauties: Moraine Lake, Banff Nationa...</td>\n",
       "      <td>0.416337</td>\n",
       "      <td>1</td>\n",
       "      <td>94</td>\n",
       "    </tr>\n",
       "    <tr>\n",
       "      <th>1583</th>\n",
       "      <td>@chucksimundson @ACAltitude Toronto. Tasty tre...</td>\n",
       "      <td>0.502439</td>\n",
       "      <td>1</td>\n",
       "      <td>66</td>\n",
       "    </tr>\n",
       "    <tr>\n",
       "      <th>1584</th>\n",
       "      <td>I'm well aware as in Jamaican lol. That doesn'...</td>\n",
       "      <td>-0.285485</td>\n",
       "      <td>0</td>\n",
       "      <td>140</td>\n",
       "    </tr>\n",
       "    <tr>\n",
       "      <th>1585</th>\n",
       "      <td>RT @BBCBreaking: Rock and roll legend Chuck Be...</td>\n",
       "      <td>-0.373625</td>\n",
       "      <td>0</td>\n",
       "      <td>129</td>\n",
       "    </tr>\n",
       "    <tr>\n",
       "      <th>1586</th>\n",
       "      <td>RT @KhalilMadovi: THEY HAVE A LOT OF THE SAME ...</td>\n",
       "      <td>-0.568097</td>\n",
       "      <td>0</td>\n",
       "      <td>110</td>\n",
       "    </tr>\n",
       "    <tr>\n",
       "      <th>1587</th>\n",
       "      <td>RT @Way_Things_Work: Entertaining police chase...</td>\n",
       "      <td>0.651352</td>\n",
       "      <td>1</td>\n",
       "      <td>82</td>\n",
       "    </tr>\n",
       "    <tr>\n",
       "      <th>1588</th>\n",
       "      <td>RT @Kehindilla: random: my city is the best on...</td>\n",
       "      <td>0.534276</td>\n",
       "      <td>1</td>\n",
       "      <td>92</td>\n",
       "    </tr>\n",
       "    <tr>\n",
       "      <th>1589</th>\n",
       "      <td>RT @annastef62: Wake up Canada the time has co...</td>\n",
       "      <td>0.423173</td>\n",
       "      <td>1</td>\n",
       "      <td>140</td>\n",
       "    </tr>\n",
       "    <tr>\n",
       "      <th>1590</th>\n",
       "      <td>@DrBennettKnows @JustinTrudeau @TwitterCanada ...</td>\n",
       "      <td>0.444946</td>\n",
       "      <td>1</td>\n",
       "      <td>105</td>\n",
       "    </tr>\n",
       "    <tr>\n",
       "      <th>1591</th>\n",
       "      <td>Dallas Stars vs the Blackhawks. Wait that's To...</td>\n",
       "      <td>0.785740</td>\n",
       "      <td>1</td>\n",
       "      <td>85</td>\n",
       "    </tr>\n",
       "    <tr>\n",
       "      <th>1592</th>\n",
       "      <td>RT @GisellePhelps: Maaaaaan!! @Drake 's shout ...</td>\n",
       "      <td>-0.443394</td>\n",
       "      <td>0</td>\n",
       "      <td>119</td>\n",
       "    </tr>\n",
       "    <tr>\n",
       "      <th>1593</th>\n",
       "      <td>RT @KhalilMadovi: THEY HAVE A LOT OF THE SAME ...</td>\n",
       "      <td>-0.568097</td>\n",
       "      <td>0</td>\n",
       "      <td>110</td>\n",
       "    </tr>\n",
       "    <tr>\n",
       "      <th>1594</th>\n",
       "      <td>The US spends $3 trillion in health care a yea...</td>\n",
       "      <td>-0.500131</td>\n",
       "      <td>0</td>\n",
       "      <td>140</td>\n",
       "    </tr>\n",
       "    <tr>\n",
       "      <th>1595</th>\n",
       "      <td>RT @DBell_hitlist: Same for Toronto folks spea...</td>\n",
       "      <td>-0.651932</td>\n",
       "      <td>0</td>\n",
       "      <td>99</td>\n",
       "    </tr>\n",
       "    <tr>\n",
       "      <th>1596</th>\n",
       "      <td>RT @BBCBreaking: Rock and roll legend Chuck Be...</td>\n",
       "      <td>-0.373625</td>\n",
       "      <td>0</td>\n",
       "      <td>129</td>\n",
       "    </tr>\n",
       "    <tr>\n",
       "      <th>1597</th>\n",
       "      <td>@NatashaFatah. Is Tarek Fatah coming to Toront...</td>\n",
       "      <td>-0.375901</td>\n",
       "      <td>0</td>\n",
       "      <td>69</td>\n",
       "    </tr>\n",
       "    <tr>\n",
       "      <th>1598</th>\n",
       "      <td>RT @PlacesOnEearth: Moraine Lake, Canada https...</td>\n",
       "      <td>0.438022</td>\n",
       "      <td>1</td>\n",
       "      <td>64</td>\n",
       "    </tr>\n",
       "    <tr>\n",
       "      <th>1599</th>\n",
       "      <td>RT @BBCBreaking: Rock and roll legend Chuck Be...</td>\n",
       "      <td>-0.373625</td>\n",
       "      <td>0</td>\n",
       "      <td>129</td>\n",
       "    </tr>\n",
       "    <tr>\n",
       "      <th>1600</th>\n",
       "      <td>RT @CTVToronto: Toronto police searching for m...</td>\n",
       "      <td>-0.390022</td>\n",
       "      <td>0</td>\n",
       "      <td>126</td>\n",
       "    </tr>\n",
       "    <tr>\n",
       "      <th>1601</th>\n",
       "      <td>Oh ❤break. Rock+Roll legend Chuck Berry has di...</td>\n",
       "      <td>-0.792687</td>\n",
       "      <td>0</td>\n",
       "      <td>138</td>\n",
       "    </tr>\n",
       "  </tbody>\n",
       "</table>\n",
       "<p>1602 rows × 4 columns</p>\n",
       "</div>"
      ],
      "text/plain": [
       "                                                  tweet  sentiment  score  \\\n",
       "0     Happy St. Patty's Fri-yay! - Drinking a Guinne...   0.267517      1   \n",
       "1     Delicious fritters! (at @Copper_Kettle_ Cafe i...   0.456975      1   \n",
       "2     Trudeau government gifts $650 millions oversea...  -0.283957      0   \n",
       "3     Thai food is HOT tonight (@ Pai in Toronto, ON...  -0.433962      0   \n",
       "4     The iconic Zanzibar (pictured here) has been o...   0.568962      1   \n",
       "5     Feel like Trump is wrong about having ANYTHING...  -0.746078      0   \n",
       "6     Buona Notte. Really interesting.  Especially #...   0.578655      1   \n",
       "7     It's 'cos he doesn't admit that a woman can be...  -0.612578      0   \n",
       "8     Great news for travelers to Canada - the E311 ...   0.621163      1   \n",
       "9     Hey @gemaker . Has your little rocket person g...  -0.698258      0   \n",
       "10    https://t.co/kbteCDJO5E  Canada elected to glo...   0.565689      1   \n",
       "11    'This pace cannot last forever': 2 big banks s...  -0.722045      0   \n",
       "12    @TheTwinPowers Great-I have this one: to go to...  -0.353825      0   \n",
       "13    Lol. Trumps probably scared of Merkel pulling ...  -0.591843      0   \n",
       "14    Dubai by night!??? #dubai #mydubai #emirates #...   0.595444      1   \n",
       "15    Canada to give $119M in aid to Middle East and...  -0.420158      0   \n",
       "16    City-dwellers are prone to depression ? are hi...  -0.745565      0   \n",
       "17    If it wasn't for drake Toronto would be irrele...  -0.545131      0   \n",
       "18    Danny from Quebec, Canada. Shredding all morni...   0.445054      1   \n",
       "19    .@GwapoMarcp Pagcaliwangan weighs 123.6, Emman...   0.424103      1   \n",
       "20    [Canada should prepare for new technology spur...  -0.322767      0   \n",
       "21    in case you were wondering how Canada feels ht...  -0.578922      0   \n",
       "22                            Welcome shinee in toronto   0.787968      1   \n",
       "23    Till tomm babe~ #??? #?? ?? Travel safe in Can...   0.544413      1   \n",
       "24    About to go live on CTV Canada to talk about M...  -0.283283      0   \n",
       "25    My grandmother's weaving #chinchorrowayuu I'll...   0.563940      1   \n",
       "26    My Canadian friend went to Russia and was atta...  -0.332980      0   \n",
       "27    @kausmickey @AnnCoulter look at the donor list...   0.829516      1   \n",
       "28    @candiesbling With the twists BB does in Canad...   0.660930      1   \n",
       "29    Looking at the weather forecast in Toronto I h...  -0.449340      0   \n",
       "...                                                 ...        ...    ...   \n",
       "1572  Top 10 Canada Waterfalls for a Memorable Famil...   0.760825      1   \n",
       "1573  RT @GlennMcmillan14: #Trudeau!!what Western Na...   0.406331      1   \n",
       "1574  RT @zeezsalau: We are going to shut down toron...  -0.330262      0   \n",
       "1575  Toronto's Qualified Contractor to ensure a Str...   0.713723      1   \n",
       "1576      Don't get how people rate this Canadian fraud  -0.590935      0   \n",
       "1577  10 Things to Do This Spring in Toronto - https...  -0.428431      0   \n",
       "1578  RT @BBCRadio4: 'Legend' would be an understate...  -0.618580      0   \n",
       "1579  @ffweekend I'm telling you let them all go to ...   0.477734      1   \n",
       "1580  @NimApple for keysnote's, yes you will need on...  -0.404030      0   \n",
       "1581  RT @DrRimmer: Eli Lilly has lost its #ISDS act...  -0.330432      0   \n",
       "1582  RT @EarthBeauties: Moraine Lake, Banff Nationa...   0.416337      1   \n",
       "1583  @chucksimundson @ACAltitude Toronto. Tasty tre...   0.502439      1   \n",
       "1584  I'm well aware as in Jamaican lol. That doesn'...  -0.285485      0   \n",
       "1585  RT @BBCBreaking: Rock and roll legend Chuck Be...  -0.373625      0   \n",
       "1586  RT @KhalilMadovi: THEY HAVE A LOT OF THE SAME ...  -0.568097      0   \n",
       "1587  RT @Way_Things_Work: Entertaining police chase...   0.651352      1   \n",
       "1588  RT @Kehindilla: random: my city is the best on...   0.534276      1   \n",
       "1589  RT @annastef62: Wake up Canada the time has co...   0.423173      1   \n",
       "1590  @DrBennettKnows @JustinTrudeau @TwitterCanada ...   0.444946      1   \n",
       "1591  Dallas Stars vs the Blackhawks. Wait that's To...   0.785740      1   \n",
       "1592  RT @GisellePhelps: Maaaaaan!! @Drake 's shout ...  -0.443394      0   \n",
       "1593  RT @KhalilMadovi: THEY HAVE A LOT OF THE SAME ...  -0.568097      0   \n",
       "1594  The US spends $3 trillion in health care a yea...  -0.500131      0   \n",
       "1595  RT @DBell_hitlist: Same for Toronto folks spea...  -0.651932      0   \n",
       "1596  RT @BBCBreaking: Rock and roll legend Chuck Be...  -0.373625      0   \n",
       "1597  @NatashaFatah. Is Tarek Fatah coming to Toront...  -0.375901      0   \n",
       "1598  RT @PlacesOnEearth: Moraine Lake, Canada https...   0.438022      1   \n",
       "1599  RT @BBCBreaking: Rock and roll legend Chuck Be...  -0.373625      0   \n",
       "1600  RT @CTVToronto: Toronto police searching for m...  -0.390022      0   \n",
       "1601  Oh ❤break. Rock+Roll legend Chuck Berry has di...  -0.792687      0   \n",
       "\n",
       "      length  \n",
       "0        124  \n",
       "1         91  \n",
       "2        140  \n",
       "3         88  \n",
       "4        140  \n",
       "5        142  \n",
       "6         91  \n",
       "7        140  \n",
       "8        140  \n",
       "9        111  \n",
       "10       138  \n",
       "11       104  \n",
       "12       140  \n",
       "13        84  \n",
       "14        87  \n",
       "15       110  \n",
       "16        89  \n",
       "17        50  \n",
       "18       119  \n",
       "19       139  \n",
       "20       136  \n",
       "21        67  \n",
       "22        25  \n",
       "23       104  \n",
       "24       115  \n",
       "25       140  \n",
       "26       129  \n",
       "27       136  \n",
       "28        93  \n",
       "29       134  \n",
       "...      ...  \n",
       "1572     104  \n",
       "1573     144  \n",
       "1574     118  \n",
       "1575      96  \n",
       "1576      45  \n",
       "1577     106  \n",
       "1578     130  \n",
       "1579     145  \n",
       "1580      76  \n",
       "1581     139  \n",
       "1582      94  \n",
       "1583      66  \n",
       "1584     140  \n",
       "1585     129  \n",
       "1586     110  \n",
       "1587      82  \n",
       "1588      92  \n",
       "1589     140  \n",
       "1590     105  \n",
       "1591      85  \n",
       "1592     119  \n",
       "1593     110  \n",
       "1594     140  \n",
       "1595      99  \n",
       "1596     129  \n",
       "1597      69  \n",
       "1598      64  \n",
       "1599     129  \n",
       "1600     126  \n",
       "1601     138  \n",
       "\n",
       "[1602 rows x 4 columns]"
      ]
     },
     "execution_count": 24,
     "metadata": {},
     "output_type": "execute_result"
    }
   ],
   "source": [
    "df"
   ]
  },
  {
   "cell_type": "code",
   "execution_count": 25,
   "metadata": {},
   "outputs": [
    {
     "data": {
      "text/plain": [
       "['Happy',\n",
       " 'St',\n",
       " 'Pattys',\n",
       " 'Friyay',\n",
       " 'Drinking',\n",
       " 'a',\n",
       " 'Guinness',\n",
       " 'Original',\n",
       " 'Extra',\n",
       " 'Stout',\n",
       " 'Canada',\n",
       " 'USA',\n",
       " 'EaDo',\n",
       " 'https:tcohpOsiqG0jK',\n",
       " 'photo']"
      ]
     },
     "execution_count": 25,
     "metadata": {},
     "output_type": "execute_result"
    }
   ],
   "source": [
    "tw = df.iloc[0]['tweet'].replace('-','').replace('!','').replace('-','').replace('#','').replace('.','').replace(\"'\",'')\n",
    "tw = tw.replace('(','').replace(')','')\n",
    "tw = tw.replace('/','')\n",
    "tw = tw.replace('@','')\n",
    "tw = tw.split()\n",
    "tw"
   ]
  },
  {
   "cell_type": "code",
   "execution_count": 26,
   "metadata": {},
   "outputs": [],
   "source": [
    "X = df[['length']]\n",
    "y = df['score']"
   ]
  },
  {
   "cell_type": "markdown",
   "metadata": {},
   "source": [
    "### Splitting the dataset into training/testing sets\n",
    "\n",
    "Now we will split the set into a training and testing set using the sklearn's train_test_split function."
   ]
  },
  {
   "cell_type": "code",
   "execution_count": 27,
   "metadata": {},
   "outputs": [],
   "source": [
    "from sklearn.model_selection import train_test_split\n",
    "\n",
    "X_train, X_test, y_train, y_test = train_test_split(X,y,test_size=0.3)"
   ]
  },
  {
   "cell_type": "markdown",
   "metadata": {},
   "source": [
    "### Training the model\n",
    "\n",
    "Now, we will use our training set to train (fit) a Logistic Regression model from sklearn. The reshape argument is needed because we only have one feature. This converts the data into a 2D array."
   ]
  },
  {
   "cell_type": "code",
   "execution_count": 28,
   "metadata": {},
   "outputs": [
    {
     "data": {
      "text/plain": [
       "LogisticRegression(C=1.0, class_weight=None, dual=False, fit_intercept=True,\n",
       "          intercept_scaling=1, max_iter=100, multi_class='ovr', n_jobs=1,\n",
       "          penalty='l2', random_state=None, solver='liblinear', tol=0.0001,\n",
       "          verbose=0, warm_start=False)"
      ]
     },
     "execution_count": 28,
     "metadata": {},
     "output_type": "execute_result"
    }
   ],
   "source": [
    "from sklearn.linear_model import LogisticRegression\n",
    "\n",
    "model = LogisticRegression()\n",
    "model.fit(X_train,y_train)"
   ]
  },
  {
   "cell_type": "markdown",
   "metadata": {},
   "source": [
    "### Making predictions\n",
    "Now, we can use our trained model to make predictions.\n",
    "\n",
    "#### 1 sample prediction\n",
    "Here, we will predict the class of a tweet of length 300."
   ]
  },
  {
   "cell_type": "code",
   "execution_count": 29,
   "metadata": {},
   "outputs": [
    {
     "name": "stdout",
     "output_type": "stream",
     "text": [
      "Class 0\n"
     ]
    }
   ],
   "source": [
    "print('Class',model.predict([[300]])[0])"
   ]
  },
  {
   "cell_type": "markdown",
   "metadata": {},
   "source": [
    "#### Entire testing set\n",
    "To make predictions on the entire testing set, we can just pass it the entire testing set."
   ]
  },
  {
   "cell_type": "code",
   "execution_count": 30,
   "metadata": {},
   "outputs": [],
   "source": [
    "predictions = model.predict(X_test)"
   ]
  },
  {
   "cell_type": "markdown",
   "metadata": {},
   "source": [
    "### Evaluating the model performance\n",
    "\n",
    "We can get the accuracy of our model on the testing set by using functons from the sklearn metrics library. We can get the accuracy of the model using accuracy_score, the classification report using classification_report, and the confusion matrix using confusion_matrix."
   ]
  },
  {
   "cell_type": "code",
   "execution_count": 31,
   "metadata": {},
   "outputs": [
    {
     "name": "stdout",
     "output_type": "stream",
     "text": [
      "61.33056133056133\n"
     ]
    }
   ],
   "source": [
    "from sklearn.metrics import accuracy_score\n",
    "\n",
    "score = accuracy_score(y_test,predictions)\n",
    "\n",
    "print (score*100)"
   ]
  },
  {
   "cell_type": "code",
   "execution_count": 32,
   "metadata": {},
   "outputs": [
    {
     "name": "stdout",
     "output_type": "stream",
     "text": [
      "             precision    recall  f1-score   support\n",
      "\n",
      "          0       0.61      1.00      0.76       295\n",
      "          1       0.00      0.00      0.00       186\n",
      "\n",
      "avg / total       0.38      0.61      0.47       481\n",
      "\n"
     ]
    },
    {
     "name": "stderr",
     "output_type": "stream",
     "text": [
      "/home/hanwen/anaconda3/lib/python3.6/site-packages/sklearn/metrics/classification.py:1135: UndefinedMetricWarning: Precision and F-score are ill-defined and being set to 0.0 in labels with no predicted samples.\n",
      "  'precision', 'predicted', average, warn_for)\n"
     ]
    }
   ],
   "source": [
    "from sklearn.metrics import classification_report\n",
    "\n",
    "print(classification_report(y_test,predictions))"
   ]
  },
  {
   "cell_type": "code",
   "execution_count": 33,
   "metadata": {},
   "outputs": [
    {
     "name": "stdout",
     "output_type": "stream",
     "text": [
      "[[295   0]\n",
      " [186   0]]\n"
     ]
    }
   ],
   "source": [
    "from sklearn.metrics import confusion_matrix\n",
    "print (confusion_matrix(y_test,predictions))"
   ]
  },
  {
   "cell_type": "markdown",
   "metadata": {},
   "source": [
    "The accuracy score obtained is 64%. But from analyzing the confusion matrix and classification report we can see that the model predicted 0 for all the samples. The accuracy ended up being high due to a majority of the samples in the test set being negative. This is likely due to the length not being a good feature for discerning the sentiment of the tweet. A length of a tweet is not a good feature for discerning the sentiment score of a tweet by itself. For your assignment, you should extract features from the tweet itself to build a better predictive model."
   ]
  }
 ],
 "metadata": {
  "kernelspec": {
   "display_name": "Python 3",
   "language": "python",
   "name": "python3"
  },
  "language_info": {
   "codemirror_mode": {
    "name": "ipython",
    "version": 3
   },
   "file_extension": ".py",
   "mimetype": "text/x-python",
   "name": "python",
   "nbconvert_exporter": "python",
   "pygments_lexer": "ipython3",
   "version": "3.6.4"
  },
  "widgets": {
   "state": {},
   "version": "1.1.2"
  }
 },
 "nbformat": 4,
 "nbformat_minor": 1
}
