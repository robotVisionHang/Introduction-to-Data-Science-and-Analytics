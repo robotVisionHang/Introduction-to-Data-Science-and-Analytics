{
 "cells": [
  {
   "cell_type": "markdown",
   "metadata": {},
   "source": [
    "# Introduction to Statistics \n",
    "- Summarizing data. \n",
    "- Plotting data.\n",
    "- Confidence intervals.\n",
    "- Statistical tests.\n",
    "\n",
    "#### About this Notebook\n",
    "In this notebook, we download a dataset with data about customers. Then, we calculate statistical measures and plot distributions. Finally, we perform statistical tests."
   ]
  },
  {
   "cell_type": "code",
   "execution_count": 1,
   "metadata": {},
   "outputs": [
    {
     "data": {
      "text/plain": [
       "3"
      ]
     },
     "execution_count": 1,
     "metadata": {},
     "output_type": "execute_result"
    }
   ],
   "source": [
    "# Run this cell :)\n",
    "1+2"
   ]
  },
  {
   "cell_type": "markdown",
   "metadata": {},
   "source": [
    "### Importing Needed packages\n",
    "Statsmodels is a Python module that allows users to explore data, estimate statistical models, and perform statistical tests. "
   ]
  },
  {
   "cell_type": "code",
   "execution_count": 2,
   "metadata": {},
   "outputs": [
    {
     "name": "stderr",
     "output_type": "stream",
     "text": [
      "/home/hanwen/anaconda3/lib/python3.6/site-packages/statsmodels/compat/pandas.py:56: FutureWarning: The pandas.core.datetools module is deprecated and will be removed in a future version. Please use the pandas.tseries module instead.\n",
      "  from pandas.core import datetools\n"
     ]
    }
   ],
   "source": [
    "# Uncomment next command if you need to install a missing module\n",
    "#!pip install statsmodels\n",
    "import matplotlib.pyplot as plt\n",
    "import pandas as pd\n",
    "try:\n",
    "    import statsmodels.api as sm\n",
    "except:\n",
    "    !pip install statsmodels\n",
    "import numpy as np\n",
    "%matplotlib inline"
   ]
  },
  {
   "cell_type": "markdown",
   "metadata": {},
   "source": [
    "#### Print the current version of Python:"
   ]
  },
  {
   "cell_type": "code",
   "execution_count": 3,
   "metadata": {},
   "outputs": [
    {
     "name": "stdout",
     "output_type": "stream",
     "text": [
      "3.6.4 |Anaconda, Inc.| (default, Jan 16 2018, 18:10:19) \n",
      "[GCC 7.2.0]\n"
     ]
    }
   ],
   "source": [
    "import sys \n",
    "print(sys.version)"
   ]
  },
  {
   "cell_type": "markdown",
   "metadata": {},
   "source": [
    "### Downloading Data\n",
    "Run system commands using `!` (platform dependant)"
   ]
  },
  {
   "cell_type": "code",
   "execution_count": 4,
   "metadata": {},
   "outputs": [
    {
     "name": "stdout",
     "output_type": "stream",
     "text": [
      "Basic_statistics.ipynb\t     MIE1624H+Lecture+3+-+Basic+Statistics.pdf\r\n",
      "customer_dbase_sel.csv\t     News_Python_API.ipynb\r\n",
      "Intro_to_Pandas_handout.pdf  Overview_of_distributions.ipynb\r\n"
     ]
    }
   ],
   "source": [
    "import sys \n",
    "if sys.platform.startswith('linux'):\n",
    "    !ls\n",
    "elif sys.platform.startswith('freebsd'):\n",
    "    !ls\n",
    "elif sys.platform.startswith('darwin'):\n",
    "    !ls\n",
    "elif sys.platform.startswith('win'):\n",
    "    !dir    "
   ]
  },
  {
   "cell_type": "markdown",
   "metadata": {},
   "source": [
    "To download the data, we will use `!wget` (on DataScientistWorkbench)"
   ]
  },
  {
   "cell_type": "code",
   "execution_count": 5,
   "metadata": {},
   "outputs": [
    {
     "name": "stdout",
     "output_type": "stream",
     "text": [
      "/resources/customer_dbase_sel.csv: No such file or directory\r\n"
     ]
    }
   ],
   "source": [
    "if sys.platform.startswith('linux'):\n",
    "    !wget -O /resources/customer_dbase_sel.csv http://analytics.romanko.ca/data/customer_dbase_sel.csv"
   ]
  },
  {
   "cell_type": "markdown",
   "metadata": {},
   "source": [
    "\n",
    "## Understanding the Data\n",
    "\n",
    "### `customer_dbase_sel.csv`:\n",
    "We have downloaded an extract from IBM SPSS sample dataset with customer data, **`customer_dbase_sel.csv`**, which contains customer-specific data such as age, income, credit card spendings, commute type and time, etc. [Dataset source](http://www-01.ibm.com/support/knowledgecenter/SSLVMB_20.0.0/com.ibm.spss.statistics.help/data_files.htm)\n",
    "\n",
    "- **custid** e.g. 0648-AIPJSP-UVM (customer id)\n",
    "- **gender** e.g. Female or Male\n",
    "- **age** e.g. 26\n",
    "- **debtinc** e.g. 11.1 (debt to income ratio in %)\n",
    "- **card** e.g. Visa, Mastercard (type of primary credit card)\n",
    "- **carditems** e.g. 1, 2, 3 ... (# of primary credit card purchases in the last month)\n",
    "- **cardspent** e.g 228.27 (amount in \\$ spent on the primary credit card last month)\n",
    "- **commute** e.g. Walk, Car, Bus (commute type)\n",
    "- **commutetime** e.g. 22 (time in minutes to commute to work)\n",
    "- **income** e.g. 16.00 (income in thousands \\$ per year)\n",
    "- **edcat** e.g. College degree, Post-undergraduate degree (education level)"
   ]
  },
  {
   "cell_type": "markdown",
   "metadata": {},
   "source": [
    "## Reading the data in"
   ]
  },
  {
   "cell_type": "code",
   "execution_count": 6,
   "metadata": {},
   "outputs": [
    {
     "data": {
      "text/html": [
       "<div>\n",
       "<style scoped>\n",
       "    .dataframe tbody tr th:only-of-type {\n",
       "        vertical-align: middle;\n",
       "    }\n",
       "\n",
       "    .dataframe tbody tr th {\n",
       "        vertical-align: top;\n",
       "    }\n",
       "\n",
       "    .dataframe thead th {\n",
       "        text-align: right;\n",
       "    }\n",
       "</style>\n",
       "<table border=\"1\" class=\"dataframe\">\n",
       "  <thead>\n",
       "    <tr style=\"text-align: right;\">\n",
       "      <th></th>\n",
       "      <th>custid</th>\n",
       "      <th>gender</th>\n",
       "      <th>age</th>\n",
       "      <th>age_cat</th>\n",
       "      <th>debtinc</th>\n",
       "      <th>card</th>\n",
       "      <th>carditems</th>\n",
       "      <th>cardspent</th>\n",
       "      <th>cardtype</th>\n",
       "      <th>creddebt</th>\n",
       "      <th>...</th>\n",
       "      <th>carown</th>\n",
       "      <th>region</th>\n",
       "      <th>ed_cat</th>\n",
       "      <th>ed_years</th>\n",
       "      <th>job_cat</th>\n",
       "      <th>employ_years</th>\n",
       "      <th>emp_cat</th>\n",
       "      <th>retire</th>\n",
       "      <th>annual_income</th>\n",
       "      <th>inc_cat</th>\n",
       "    </tr>\n",
       "  </thead>\n",
       "  <tbody>\n",
       "    <tr>\n",
       "      <th>0</th>\n",
       "      <td>3964-QJWTRG-NPN</td>\n",
       "      <td>Female</td>\n",
       "      <td>20</td>\n",
       "      <td>18-24</td>\n",
       "      <td>11.1</td>\n",
       "      <td>Mastercard</td>\n",
       "      <td>5</td>\n",
       "      <td>81.66</td>\n",
       "      <td>None</td>\n",
       "      <td>1.20</td>\n",
       "      <td>...</td>\n",
       "      <td>Own</td>\n",
       "      <td>Zone 1</td>\n",
       "      <td>Some college</td>\n",
       "      <td>15</td>\n",
       "      <td>Managerial and Professional</td>\n",
       "      <td>0</td>\n",
       "      <td>Less than 2</td>\n",
       "      <td>No</td>\n",
       "      <td>31000.0</td>\n",
       "      <td>$25 - $49</td>\n",
       "    </tr>\n",
       "    <tr>\n",
       "      <th>1</th>\n",
       "      <td>0648-AIPJSP-UVM</td>\n",
       "      <td>Male</td>\n",
       "      <td>22</td>\n",
       "      <td>18-24</td>\n",
       "      <td>18.6</td>\n",
       "      <td>Visa</td>\n",
       "      <td>5</td>\n",
       "      <td>42.60</td>\n",
       "      <td>Other</td>\n",
       "      <td>1.22</td>\n",
       "      <td>...</td>\n",
       "      <td>Own</td>\n",
       "      <td>Zone 5</td>\n",
       "      <td>College degree</td>\n",
       "      <td>17</td>\n",
       "      <td>Sales and Office</td>\n",
       "      <td>0</td>\n",
       "      <td>Less than 2</td>\n",
       "      <td>No</td>\n",
       "      <td>15000.0</td>\n",
       "      <td>Under $25</td>\n",
       "    </tr>\n",
       "    <tr>\n",
       "      <th>2</th>\n",
       "      <td>5195-TLUDJE-HVO</td>\n",
       "      <td>Female</td>\n",
       "      <td>67</td>\n",
       "      <td>&gt;65</td>\n",
       "      <td>9.9</td>\n",
       "      <td>Visa</td>\n",
       "      <td>9</td>\n",
       "      <td>184.22</td>\n",
       "      <td>None</td>\n",
       "      <td>0.93</td>\n",
       "      <td>...</td>\n",
       "      <td>Own</td>\n",
       "      <td>Zone 3</td>\n",
       "      <td>High school degree</td>\n",
       "      <td>14</td>\n",
       "      <td>Sales and Office</td>\n",
       "      <td>16</td>\n",
       "      <td>More than 15</td>\n",
       "      <td>No</td>\n",
       "      <td>35000.0</td>\n",
       "      <td>$25 - $49</td>\n",
       "    </tr>\n",
       "    <tr>\n",
       "      <th>3</th>\n",
       "      <td>4459-VLPQUH-3OL</td>\n",
       "      <td>Male</td>\n",
       "      <td>23</td>\n",
       "      <td>18-24</td>\n",
       "      <td>5.7</td>\n",
       "      <td>Visa</td>\n",
       "      <td>17</td>\n",
       "      <td>340.99</td>\n",
       "      <td>None</td>\n",
       "      <td>0.02</td>\n",
       "      <td>...</td>\n",
       "      <td>Own</td>\n",
       "      <td>Zone 4</td>\n",
       "      <td>Some college</td>\n",
       "      <td>16</td>\n",
       "      <td>Sales and Office</td>\n",
       "      <td>0</td>\n",
       "      <td>Less than 2</td>\n",
       "      <td>No</td>\n",
       "      <td>20000.0</td>\n",
       "      <td>Under $25</td>\n",
       "    </tr>\n",
       "    <tr>\n",
       "      <th>4</th>\n",
       "      <td>8158-SMTQFB-CNO</td>\n",
       "      <td>Male</td>\n",
       "      <td>26</td>\n",
       "      <td>25-34</td>\n",
       "      <td>1.7</td>\n",
       "      <td>Discover</td>\n",
       "      <td>8</td>\n",
       "      <td>255.10</td>\n",
       "      <td>Gold</td>\n",
       "      <td>0.21</td>\n",
       "      <td>...</td>\n",
       "      <td>Lease</td>\n",
       "      <td>Zone 2</td>\n",
       "      <td>Some college</td>\n",
       "      <td>16</td>\n",
       "      <td>Sales and Office</td>\n",
       "      <td>1</td>\n",
       "      <td>Less than 2</td>\n",
       "      <td>No</td>\n",
       "      <td>23000.0</td>\n",
       "      <td>Under $25</td>\n",
       "    </tr>\n",
       "  </tbody>\n",
       "</table>\n",
       "<p>5 rows × 30 columns</p>\n",
       "</div>"
      ],
      "text/plain": [
       "            custid  gender  age age_cat  debtinc        card  carditems  \\\n",
       "0  3964-QJWTRG-NPN  Female   20   18-24     11.1  Mastercard          5   \n",
       "1  0648-AIPJSP-UVM    Male   22   18-24     18.6        Visa          5   \n",
       "2  5195-TLUDJE-HVO  Female   67     >65      9.9        Visa          9   \n",
       "3  4459-VLPQUH-3OL    Male   23   18-24      5.7        Visa         17   \n",
       "4  8158-SMTQFB-CNO    Male   26   25-34      1.7    Discover          8   \n",
       "\n",
       "   cardspent cardtype  creddebt    ...     carown  region              ed_cat  \\\n",
       "0      81.66     None      1.20    ...        Own  Zone 1        Some college   \n",
       "1      42.60    Other      1.22    ...        Own  Zone 5      College degree   \n",
       "2     184.22     None      0.93    ...        Own  Zone 3  High school degree   \n",
       "3     340.99     None      0.02    ...        Own  Zone 4        Some college   \n",
       "4     255.10     Gold      0.21    ...      Lease  Zone 2        Some college   \n",
       "\n",
       "   ed_years                      job_cat employ_years       emp_cat retire  \\\n",
       "0        15  Managerial and Professional            0   Less than 2     No   \n",
       "1        17             Sales and Office            0   Less than 2     No   \n",
       "2        14             Sales and Office           16  More than 15     No   \n",
       "3        16             Sales and Office            0   Less than 2     No   \n",
       "4        16             Sales and Office            1   Less than 2     No   \n",
       "\n",
       "  annual_income    inc_cat  \n",
       "0       31000.0  $25 - $49  \n",
       "1       15000.0  Under $25  \n",
       "2       35000.0  $25 - $49  \n",
       "3       20000.0  Under $25  \n",
       "4       23000.0  Under $25  \n",
       "\n",
       "[5 rows x 30 columns]"
      ]
     },
     "execution_count": 6,
     "metadata": {},
     "output_type": "execute_result"
    }
   ],
   "source": [
    "url = \"http://analytics.romanko.ca/data/customer_dbase_sel.csv\"\n",
    "df = pd.read_csv(url)\n",
    "\n",
    "## On DataScientistWorkbench you can read from /resources directory\n",
    "#df = pd.read_csv(\"/resources/customer_dbase_sel.csv\")\n",
    "\n",
    "# display first 5 rows of the dataset\n",
    "df.head()"
   ]
  },
  {
   "cell_type": "markdown",
   "metadata": {},
   "source": [
    "### Data Exploration"
   ]
  },
  {
   "cell_type": "code",
   "execution_count": 7,
   "metadata": {
    "scrolled": true
   },
   "outputs": [
    {
     "data": {
      "text/html": [
       "<div>\n",
       "<style scoped>\n",
       "    .dataframe tbody tr th:only-of-type {\n",
       "        vertical-align: middle;\n",
       "    }\n",
       "\n",
       "    .dataframe tbody tr th {\n",
       "        vertical-align: top;\n",
       "    }\n",
       "\n",
       "    .dataframe thead th {\n",
       "        text-align: right;\n",
       "    }\n",
       "</style>\n",
       "<table border=\"1\" class=\"dataframe\">\n",
       "  <thead>\n",
       "    <tr style=\"text-align: right;\">\n",
       "      <th></th>\n",
       "      <th>age</th>\n",
       "      <th>debtinc</th>\n",
       "      <th>carditems</th>\n",
       "      <th>cardspent</th>\n",
       "      <th>creddebt</th>\n",
       "      <th>commutetime</th>\n",
       "      <th>card2items</th>\n",
       "      <th>card2spent</th>\n",
       "      <th>cars</th>\n",
       "      <th>ed_years</th>\n",
       "      <th>employ_years</th>\n",
       "      <th>annual_income</th>\n",
       "    </tr>\n",
       "  </thead>\n",
       "  <tbody>\n",
       "    <tr>\n",
       "      <th>count</th>\n",
       "      <td>5000.000000</td>\n",
       "      <td>5000.000000</td>\n",
       "      <td>5000.00000</td>\n",
       "      <td>5000.000000</td>\n",
       "      <td>5000.000000</td>\n",
       "      <td>4998.000000</td>\n",
       "      <td>5000.000000</td>\n",
       "      <td>5000.000000</td>\n",
       "      <td>5000.000000</td>\n",
       "      <td>5000.000000</td>\n",
       "      <td>5000.000000</td>\n",
       "      <td>5.000000e+03</td>\n",
       "    </tr>\n",
       "    <tr>\n",
       "      <th>mean</th>\n",
       "      <td>46.939800</td>\n",
       "      <td>9.957800</td>\n",
       "      <td>10.19920</td>\n",
       "      <td>339.635878</td>\n",
       "      <td>1.874982</td>\n",
       "      <td>25.346739</td>\n",
       "      <td>4.666000</td>\n",
       "      <td>161.331270</td>\n",
       "      <td>2.134200</td>\n",
       "      <td>14.537600</td>\n",
       "      <td>9.740200</td>\n",
       "      <td>5.504060e+04</td>\n",
       "    </tr>\n",
       "    <tr>\n",
       "      <th>std</th>\n",
       "      <td>17.703312</td>\n",
       "      <td>6.423173</td>\n",
       "      <td>3.39279</td>\n",
       "      <td>248.382982</td>\n",
       "      <td>3.441425</td>\n",
       "      <td>5.890674</td>\n",
       "      <td>2.482434</td>\n",
       "      <td>146.798035</td>\n",
       "      <td>1.306037</td>\n",
       "      <td>3.294717</td>\n",
       "      <td>9.691062</td>\n",
       "      <td>5.554475e+04</td>\n",
       "    </tr>\n",
       "    <tr>\n",
       "      <th>min</th>\n",
       "      <td>18.000000</td>\n",
       "      <td>0.000000</td>\n",
       "      <td>0.00000</td>\n",
       "      <td>0.000000</td>\n",
       "      <td>0.000000</td>\n",
       "      <td>7.000000</td>\n",
       "      <td>0.000000</td>\n",
       "      <td>0.000000</td>\n",
       "      <td>0.000000</td>\n",
       "      <td>6.000000</td>\n",
       "      <td>0.000000</td>\n",
       "      <td>9.000000e+03</td>\n",
       "    </tr>\n",
       "    <tr>\n",
       "      <th>25%</th>\n",
       "      <td>32.000000</td>\n",
       "      <td>5.175000</td>\n",
       "      <td>8.00000</td>\n",
       "      <td>184.860000</td>\n",
       "      <td>0.390000</td>\n",
       "      <td>21.000000</td>\n",
       "      <td>3.000000</td>\n",
       "      <td>67.682500</td>\n",
       "      <td>1.000000</td>\n",
       "      <td>12.000000</td>\n",
       "      <td>2.000000</td>\n",
       "      <td>2.400000e+04</td>\n",
       "    </tr>\n",
       "    <tr>\n",
       "      <th>50%</th>\n",
       "      <td>46.000000</td>\n",
       "      <td>8.800000</td>\n",
       "      <td>10.00000</td>\n",
       "      <td>278.655000</td>\n",
       "      <td>0.930000</td>\n",
       "      <td>25.000000</td>\n",
       "      <td>5.000000</td>\n",
       "      <td>125.455000</td>\n",
       "      <td>2.000000</td>\n",
       "      <td>14.000000</td>\n",
       "      <td>7.000000</td>\n",
       "      <td>3.800000e+04</td>\n",
       "    </tr>\n",
       "    <tr>\n",
       "      <th>75%</th>\n",
       "      <td>62.000000</td>\n",
       "      <td>13.500000</td>\n",
       "      <td>12.00000</td>\n",
       "      <td>422.402500</td>\n",
       "      <td>2.080000</td>\n",
       "      <td>29.000000</td>\n",
       "      <td>6.000000</td>\n",
       "      <td>208.612500</td>\n",
       "      <td>3.000000</td>\n",
       "      <td>17.000000</td>\n",
       "      <td>15.000000</td>\n",
       "      <td>6.700000e+04</td>\n",
       "    </tr>\n",
       "    <tr>\n",
       "      <th>max</th>\n",
       "      <td>79.000000</td>\n",
       "      <td>43.100000</td>\n",
       "      <td>23.00000</td>\n",
       "      <td>3926.410000</td>\n",
       "      <td>109.070000</td>\n",
       "      <td>48.000000</td>\n",
       "      <td>15.000000</td>\n",
       "      <td>2069.250000</td>\n",
       "      <td>8.000000</td>\n",
       "      <td>23.000000</td>\n",
       "      <td>52.000000</td>\n",
       "      <td>1.073000e+06</td>\n",
       "    </tr>\n",
       "  </tbody>\n",
       "</table>\n",
       "</div>"
      ],
      "text/plain": [
       "               age      debtinc   carditems    cardspent     creddebt  \\\n",
       "count  5000.000000  5000.000000  5000.00000  5000.000000  5000.000000   \n",
       "mean     46.939800     9.957800    10.19920   339.635878     1.874982   \n",
       "std      17.703312     6.423173     3.39279   248.382982     3.441425   \n",
       "min      18.000000     0.000000     0.00000     0.000000     0.000000   \n",
       "25%      32.000000     5.175000     8.00000   184.860000     0.390000   \n",
       "50%      46.000000     8.800000    10.00000   278.655000     0.930000   \n",
       "75%      62.000000    13.500000    12.00000   422.402500     2.080000   \n",
       "max      79.000000    43.100000    23.00000  3926.410000   109.070000   \n",
       "\n",
       "       commutetime   card2items   card2spent         cars     ed_years  \\\n",
       "count  4998.000000  5000.000000  5000.000000  5000.000000  5000.000000   \n",
       "mean     25.346739     4.666000   161.331270     2.134200    14.537600   \n",
       "std       5.890674     2.482434   146.798035     1.306037     3.294717   \n",
       "min       7.000000     0.000000     0.000000     0.000000     6.000000   \n",
       "25%      21.000000     3.000000    67.682500     1.000000    12.000000   \n",
       "50%      25.000000     5.000000   125.455000     2.000000    14.000000   \n",
       "75%      29.000000     6.000000   208.612500     3.000000    17.000000   \n",
       "max      48.000000    15.000000  2069.250000     8.000000    23.000000   \n",
       "\n",
       "       employ_years  annual_income  \n",
       "count   5000.000000   5.000000e+03  \n",
       "mean       9.740200   5.504060e+04  \n",
       "std        9.691062   5.554475e+04  \n",
       "min        0.000000   9.000000e+03  \n",
       "25%        2.000000   2.400000e+04  \n",
       "50%        7.000000   3.800000e+04  \n",
       "75%       15.000000   6.700000e+04  \n",
       "max       52.000000   1.073000e+06  "
      ]
     },
     "execution_count": 7,
     "metadata": {},
     "output_type": "execute_result"
    }
   ],
   "source": [
    "# Summarize the data\n",
    "df.describe()"
   ]
  },
  {
   "cell_type": "code",
   "execution_count": 8,
   "metadata": {},
   "outputs": [
    {
     "data": {
      "text/plain": [
       "(5000, 30)"
      ]
     },
     "execution_count": 8,
     "metadata": {},
     "output_type": "execute_result"
    }
   ],
   "source": [
    "# Number of rows and columns in the data\n",
    "df.shape"
   ]
  },
  {
   "cell_type": "code",
   "execution_count": 9,
   "metadata": {},
   "outputs": [
    {
     "data": {
      "text/plain": [
       "Index(['custid', 'gender', 'age', 'age_cat', 'debtinc', 'card', 'carditems',\n",
       "       'cardspent', 'cardtype', 'creddebt', 'commute', 'commutetime', 'card2',\n",
       "       'card2items', 'card2spent', 'card2type', 'marital', 'homeown',\n",
       "       'hometype', 'cars', 'carown', 'region', 'ed_cat', 'ed_years', 'job_cat',\n",
       "       'employ_years', 'emp_cat', 'retire', 'annual_income', 'inc_cat'],\n",
       "      dtype='object')"
      ]
     },
     "execution_count": 9,
     "metadata": {},
     "output_type": "execute_result"
    }
   ],
   "source": [
    "# Display column names\n",
    "df.columns"
   ]
  },
  {
   "cell_type": "markdown",
   "metadata": {},
   "source": [
    "### Labeling Data\n",
    "\n",
    "income > 30000  --> High-income --> 1  \n",
    "income < 30000  --> Low-income  --> 0"
   ]
  },
  {
   "cell_type": "code",
   "execution_count": 10,
   "metadata": {},
   "outputs": [
    {
     "data": {
      "text/html": [
       "<div>\n",
       "<style scoped>\n",
       "    .dataframe tbody tr th:only-of-type {\n",
       "        vertical-align: middle;\n",
       "    }\n",
       "\n",
       "    .dataframe tbody tr th {\n",
       "        vertical-align: top;\n",
       "    }\n",
       "\n",
       "    .dataframe thead th {\n",
       "        text-align: right;\n",
       "    }\n",
       "</style>\n",
       "<table border=\"1\" class=\"dataframe\">\n",
       "  <thead>\n",
       "    <tr style=\"text-align: right;\">\n",
       "      <th></th>\n",
       "      <th>annual_income</th>\n",
       "      <th>income_category</th>\n",
       "    </tr>\n",
       "  </thead>\n",
       "  <tbody>\n",
       "    <tr>\n",
       "      <th>0</th>\n",
       "      <td>31000.0</td>\n",
       "      <td>1</td>\n",
       "    </tr>\n",
       "    <tr>\n",
       "      <th>1</th>\n",
       "      <td>15000.0</td>\n",
       "      <td>0</td>\n",
       "    </tr>\n",
       "    <tr>\n",
       "      <th>2</th>\n",
       "      <td>35000.0</td>\n",
       "      <td>1</td>\n",
       "    </tr>\n",
       "    <tr>\n",
       "      <th>3</th>\n",
       "      <td>20000.0</td>\n",
       "      <td>0</td>\n",
       "    </tr>\n",
       "    <tr>\n",
       "      <th>4</th>\n",
       "      <td>23000.0</td>\n",
       "      <td>0</td>\n",
       "    </tr>\n",
       "  </tbody>\n",
       "</table>\n",
       "</div>"
      ],
      "text/plain": [
       "   annual_income  income_category\n",
       "0        31000.0                1\n",
       "1        15000.0                0\n",
       "2        35000.0                1\n",
       "3        20000.0                0\n",
       "4        23000.0                0"
      ]
     },
     "execution_count": 10,
     "metadata": {},
     "output_type": "execute_result"
    }
   ],
   "source": [
    "# To label data into high-income and low-income\n",
    "df['income_category'] = df['annual_income'].map(lambda x: 1 if x>30000 else 0)\n",
    "df[['annual_income','income_category']].head()"
   ]
  },
  {
   "cell_type": "markdown",
   "metadata": {},
   "source": [
    "## Data Exploration\n",
    "#### Select 4 data columns for visualizing:"
   ]
  },
  {
   "cell_type": "code",
   "execution_count": 11,
   "metadata": {
    "scrolled": true
   },
   "outputs": [
    {
     "data": {
      "text/html": [
       "<div>\n",
       "<style scoped>\n",
       "    .dataframe tbody tr th:only-of-type {\n",
       "        vertical-align: middle;\n",
       "    }\n",
       "\n",
       "    .dataframe tbody tr th {\n",
       "        vertical-align: top;\n",
       "    }\n",
       "\n",
       "    .dataframe thead th {\n",
       "        text-align: right;\n",
       "    }\n",
       "</style>\n",
       "<table border=\"1\" class=\"dataframe\">\n",
       "  <thead>\n",
       "    <tr style=\"text-align: right;\">\n",
       "      <th></th>\n",
       "      <th>cardspent</th>\n",
       "      <th>debtinc</th>\n",
       "      <th>carditems</th>\n",
       "      <th>commutetime</th>\n",
       "    </tr>\n",
       "  </thead>\n",
       "  <tbody>\n",
       "    <tr>\n",
       "      <th>0</th>\n",
       "      <td>81.66</td>\n",
       "      <td>11.1</td>\n",
       "      <td>5</td>\n",
       "      <td>22.0</td>\n",
       "    </tr>\n",
       "    <tr>\n",
       "      <th>1</th>\n",
       "      <td>42.60</td>\n",
       "      <td>18.6</td>\n",
       "      <td>5</td>\n",
       "      <td>29.0</td>\n",
       "    </tr>\n",
       "    <tr>\n",
       "      <th>2</th>\n",
       "      <td>184.22</td>\n",
       "      <td>9.9</td>\n",
       "      <td>9</td>\n",
       "      <td>24.0</td>\n",
       "    </tr>\n",
       "    <tr>\n",
       "      <th>3</th>\n",
       "      <td>340.99</td>\n",
       "      <td>5.7</td>\n",
       "      <td>17</td>\n",
       "      <td>38.0</td>\n",
       "    </tr>\n",
       "    <tr>\n",
       "      <th>4</th>\n",
       "      <td>255.10</td>\n",
       "      <td>1.7</td>\n",
       "      <td>8</td>\n",
       "      <td>32.0</td>\n",
       "    </tr>\n",
       "  </tbody>\n",
       "</table>\n",
       "</div>"
      ],
      "text/plain": [
       "   cardspent  debtinc  carditems  commutetime\n",
       "0      81.66     11.1          5         22.0\n",
       "1      42.60     18.6          5         29.0\n",
       "2     184.22      9.9          9         24.0\n",
       "3     340.99      5.7         17         38.0\n",
       "4     255.10      1.7          8         32.0"
      ]
     },
     "execution_count": 11,
     "metadata": {},
     "output_type": "execute_result"
    }
   ],
   "source": [
    "viz = df[['cardspent','debtinc','carditems','commutetime']]\n",
    "viz.head()"
   ]
  },
  {
   "cell_type": "markdown",
   "metadata": {},
   "source": [
    "#### Compute descriptive statistics for the data:"
   ]
  },
  {
   "cell_type": "code",
   "execution_count": 12,
   "metadata": {
    "scrolled": false
   },
   "outputs": [
    {
     "data": {
      "text/html": [
       "<div>\n",
       "<style scoped>\n",
       "    .dataframe tbody tr th:only-of-type {\n",
       "        vertical-align: middle;\n",
       "    }\n",
       "\n",
       "    .dataframe tbody tr th {\n",
       "        vertical-align: top;\n",
       "    }\n",
       "\n",
       "    .dataframe thead th {\n",
       "        text-align: right;\n",
       "    }\n",
       "</style>\n",
       "<table border=\"1\" class=\"dataframe\">\n",
       "  <thead>\n",
       "    <tr style=\"text-align: right;\">\n",
       "      <th></th>\n",
       "      <th>cardspent</th>\n",
       "      <th>debtinc</th>\n",
       "      <th>carditems</th>\n",
       "      <th>commutetime</th>\n",
       "    </tr>\n",
       "  </thead>\n",
       "  <tbody>\n",
       "    <tr>\n",
       "      <th>count</th>\n",
       "      <td>5000.000000</td>\n",
       "      <td>5000.000000</td>\n",
       "      <td>5000.00000</td>\n",
       "      <td>4998.000000</td>\n",
       "    </tr>\n",
       "    <tr>\n",
       "      <th>mean</th>\n",
       "      <td>339.635878</td>\n",
       "      <td>9.957800</td>\n",
       "      <td>10.19920</td>\n",
       "      <td>25.346739</td>\n",
       "    </tr>\n",
       "    <tr>\n",
       "      <th>std</th>\n",
       "      <td>248.382982</td>\n",
       "      <td>6.423173</td>\n",
       "      <td>3.39279</td>\n",
       "      <td>5.890674</td>\n",
       "    </tr>\n",
       "    <tr>\n",
       "      <th>min</th>\n",
       "      <td>0.000000</td>\n",
       "      <td>0.000000</td>\n",
       "      <td>0.00000</td>\n",
       "      <td>7.000000</td>\n",
       "    </tr>\n",
       "    <tr>\n",
       "      <th>25%</th>\n",
       "      <td>184.860000</td>\n",
       "      <td>5.175000</td>\n",
       "      <td>8.00000</td>\n",
       "      <td>21.000000</td>\n",
       "    </tr>\n",
       "    <tr>\n",
       "      <th>50%</th>\n",
       "      <td>278.655000</td>\n",
       "      <td>8.800000</td>\n",
       "      <td>10.00000</td>\n",
       "      <td>25.000000</td>\n",
       "    </tr>\n",
       "    <tr>\n",
       "      <th>75%</th>\n",
       "      <td>422.402500</td>\n",
       "      <td>13.500000</td>\n",
       "      <td>12.00000</td>\n",
       "      <td>29.000000</td>\n",
       "    </tr>\n",
       "    <tr>\n",
       "      <th>max</th>\n",
       "      <td>3926.410000</td>\n",
       "      <td>43.100000</td>\n",
       "      <td>23.00000</td>\n",
       "      <td>48.000000</td>\n",
       "    </tr>\n",
       "  </tbody>\n",
       "</table>\n",
       "</div>"
      ],
      "text/plain": [
       "         cardspent      debtinc   carditems  commutetime\n",
       "count  5000.000000  5000.000000  5000.00000  4998.000000\n",
       "mean    339.635878     9.957800    10.19920    25.346739\n",
       "std     248.382982     6.423173     3.39279     5.890674\n",
       "min       0.000000     0.000000     0.00000     7.000000\n",
       "25%     184.860000     5.175000     8.00000    21.000000\n",
       "50%     278.655000     8.800000    10.00000    25.000000\n",
       "75%     422.402500    13.500000    12.00000    29.000000\n",
       "max    3926.410000    43.100000    23.00000    48.000000"
      ]
     },
     "execution_count": 12,
     "metadata": {},
     "output_type": "execute_result"
    }
   ],
   "source": [
    "viz.describe()"
   ]
  },
  {
   "cell_type": "markdown",
   "metadata": {},
   "source": [
    "Drop NaN (Not-a-Number) observations:"
   ]
  },
  {
   "cell_type": "code",
   "execution_count": 13,
   "metadata": {
    "scrolled": true
   },
   "outputs": [
    {
     "data": {
      "text/plain": [
       "commutetime    4998\n",
       "dtype: int64"
      ]
     },
     "execution_count": 13,
     "metadata": {},
     "output_type": "execute_result"
    }
   ],
   "source": [
    "df[['commutetime']].dropna().count()"
   ]
  },
  {
   "cell_type": "markdown",
   "metadata": {},
   "source": [
    "Print observations with NaN `commutetime`:"
   ]
  },
  {
   "cell_type": "code",
   "execution_count": 14,
   "metadata": {},
   "outputs": [
    {
     "name": "stdout",
     "output_type": "stream",
     "text": [
      "               custid  gender  age age_cat  debtinc      card  carditems  \\\n",
      "965   3622-JHDLVP-V1E  Female   48   35-49      6.5  Discover         12   \n",
      "2734  0860-BRGALK-LLR  Female   68     >65     17.3     Other          8   \n",
      "\n",
      "      cardspent  cardtype  creddebt       ...         region          ed_cat  \\\n",
      "965      261.91  Platinum      2.25       ...         Zone 1  College degree   \n",
      "2734     178.75  Platinum      1.08       ...         Zone 5    Some college   \n",
      "\n",
      "     ed_years                                job_cat  employ_years  \\\n",
      "965        19                                Service            12   \n",
      "2734       15  Operation, Fabrication, General Labor            20   \n",
      "\n",
      "           emp_cat retire annual_income     inc_cat  income_category  \n",
      "965       11 to 15     No      121000.0  $75 - $124                1  \n",
      "2734  More than 15    Yes       23000.0   Under $25                0  \n",
      "\n",
      "[2 rows x 31 columns]\n"
     ]
    }
   ],
   "source": [
    "print( df[np.isnan(df[\"commutetime\"])] )"
   ]
  },
  {
   "cell_type": "markdown",
   "metadata": {},
   "source": [
    "#### Visualize data:"
   ]
  },
  {
   "cell_type": "code",
   "execution_count": 15,
   "metadata": {
    "scrolled": true
   },
   "outputs": [
    {
     "data": {
      "image/png": "[encoded data removed]",
      "text/plain": [
       "<matplotlib.figure.Figure at 0x7f25bb603a58>"
      ]
     },
     "metadata": {},
     "output_type": "display_data"
    }
   ],
   "source": [
    "viz.hist()\n",
    "plt.show()"
   ]
  },
  {
   "cell_type": "code",
   "execution_count": 16,
   "metadata": {
    "scrolled": true
   },
   "outputs": [
    {
     "data": {
      "image/png": "[encoded data removed]",
      "text/plain": [
       "<matplotlib.figure.Figure at 0x7f25bb516898>"
      ]
     },
     "metadata": {},
     "output_type": "display_data"
    }
   ],
   "source": [
    "df[['cardspent']].hist()\n",
    "plt.show()"
   ]
  },
  {
   "cell_type": "code",
   "execution_count": 17,
   "metadata": {
    "scrolled": false
   },
   "outputs": [
    {
     "data": {
      "image/png": "[encoded data removed]",
      "text/plain": [
       "<matplotlib.figure.Figure at 0x7f25babf3748>"
      ]
     },
     "metadata": {},
     "output_type": "display_data"
    }
   ],
   "source": [
    "df[['commutetime']].hist()\n",
    "plt.show()"
   ]
  },
  {
   "cell_type": "markdown",
   "metadata": {},
   "source": [
    "## Confidence Intervals\n",
    "\n",
    "For computing confidence intervals and performing simple statistical tests, we will use the `stats` sub-module of `scipy`:"
   ]
  },
  {
   "cell_type": "code",
   "execution_count": 18,
   "metadata": {},
   "outputs": [],
   "source": [
    "from scipy import stats"
   ]
  },
  {
   "cell_type": "markdown",
   "metadata": {},
   "source": [
    "Confidence intervals tell us how close we think the mean is to the true value, with a certain level of confidence.\n",
    "\n",
    "We compute mean `mu`, standard deviation `sigma` and the number of observations `N` in our sample of the debt-to-income ratio:"
   ]
  },
  {
   "cell_type": "code",
   "execution_count": 19,
   "metadata": {},
   "outputs": [
    {
     "name": "stdout",
     "output_type": "stream",
     "text": [
      "mean = 9.9578, st. dev = 6.42253\n"
     ]
    }
   ],
   "source": [
    "mu, sigma = np.mean(df[['debtinc']]), np.std(df[['debtinc']])\n",
    "print (\"mean = %G, st. dev = %g\" % (mu, sigma))"
   ]
  },
  {
   "cell_type": "code",
   "execution_count": 20,
   "metadata": {},
   "outputs": [
    {
     "data": {
      "text/plain": [
       "5000"
      ]
     },
     "execution_count": 20,
     "metadata": {},
     "output_type": "execute_result"
    }
   ],
   "source": [
    "N = len(df[['debtinc']])\n",
    "N"
   ]
  },
  {
   "cell_type": "markdown",
   "metadata": {},
   "source": [
    "The 95% confidence interval for the mean of `N` draws from a Normal distribution with mean `mu` and standard deviation `sigma` is"
   ]
  },
  {
   "cell_type": "code",
   "execution_count": 21,
   "metadata": {},
   "outputs": [
    {
     "data": {
      "text/plain": [
       "'\\n标准误表示的是抽样的误差。因为从一个总体中可以抽取出无数多种样本，每一个样本的数据都是对总体的数据的估计。\\n标准误代表的就是当前的样本对总体数据的估计，标准误代表的就是样本均数与总体均数的相对误差。\\n标准误是由样本的标准差除以样本容量的开平方来计算的。从这里可以看到，标准误更大的是受到样本容量的影响:\\n     样本容量越大，标准误越小，那么抽样误差就越小，就表明所抽取的样本能够较好地代表总体。\\n'"
      ]
     },
     "execution_count": 21,
     "metadata": {},
     "output_type": "execute_result"
    }
   ],
   "source": [
    "conf_int = stats.norm.interval( 0.95, loc = mu, scale = sigma/np.sqrt(N) )\n",
    "conf_int\n",
    "'''\n",
    "标准误表示的是抽样的误差。因为从一个总体中可以抽取出无数多种样本，每一个样本的数据都是对总体的数据的估计。\n",
    "标准误代表的就是当前的样本对总体数据的估计，标准误代表的就是样本均数与总体均数的相对误差。\n",
    "标准误是由样本的标准差除以样本容量的开平方来计算的。从这里可以看到，标准误更大的是受到样本容量的影响:\n",
    "     样本容量越大，标准误越小，那么抽样误差就越小，就表明所抽取的样本能够较好地代表总体。\n",
    "'''"
   ]
  },
  {
   "cell_type": "code",
   "execution_count": 22,
   "metadata": {},
   "outputs": [
    {
     "name": "stdout",
     "output_type": "stream",
     "text": [
      "95% confidence interval for the mean of debt to income ratio = [9.77978 10.1358]\n"
     ]
    }
   ],
   "source": [
    "print (\"95%% confidence interval for the mean of debt to income ratio = [%g %g]\" % (conf_int[0], conf_int[1]))"
   ]
  },
  {
   "cell_type": "code",
   "execution_count": 23,
   "metadata": {},
   "outputs": [
    {
     "data": {
      "text/plain": [
       "tuple"
      ]
     },
     "execution_count": 23,
     "metadata": {},
     "output_type": "execute_result"
    }
   ],
   "source": [
    "type(conf_int)"
   ]
  },
  {
   "cell_type": "markdown",
   "metadata": {},
   "source": [
    "## Statistical Tests"
   ]
  },
  {
   "cell_type": "markdown",
   "metadata": {},
   "source": [
    "Select columns by name:"
   ]
  },
  {
   "cell_type": "code",
   "execution_count": 24,
   "metadata": {},
   "outputs": [
    {
     "name": "stdout",
     "output_type": "stream",
     "text": [
      "0       Female\n",
      "1         Male\n",
      "2       Female\n",
      "3         Male\n",
      "4         Male\n",
      "5         Male\n",
      "6       Female\n",
      "7       Female\n",
      "8       Female\n",
      "9         Male\n",
      "10      Female\n",
      "11      Female\n",
      "12        Male\n",
      "13        Male\n",
      "14      Female\n",
      "15      Female\n",
      "16      Female\n",
      "17        Male\n",
      "18      Female\n",
      "19      Female\n",
      "20        Male\n",
      "21        Male\n",
      "22        Male\n",
      "23        Male\n",
      "24        Male\n",
      "25      Female\n",
      "26      Female\n",
      "27      Female\n",
      "28      Female\n",
      "29        Male\n",
      "         ...  \n",
      "4970    Female\n",
      "4971      Male\n",
      "4972    Female\n",
      "4973      Male\n",
      "4974      Male\n",
      "4975    Female\n",
      "4976      Male\n",
      "4977      Male\n",
      "4978      Male\n",
      "4979      Male\n",
      "4980    Female\n",
      "4981      Male\n",
      "4982      Male\n",
      "4983    Female\n",
      "4984      Male\n",
      "4985    Female\n",
      "4986      Male\n",
      "4987      Male\n",
      "4988    Female\n",
      "4989    Female\n",
      "4990    Female\n",
      "4991      Male\n",
      "4992    Female\n",
      "4993      Male\n",
      "4994      Male\n",
      "4995      Male\n",
      "4996      Male\n",
      "4997    Female\n",
      "4998    Female\n",
      "4999    Female\n",
      "Name: gender, Length: 5000, dtype: object\n"
     ]
    }
   ],
   "source": [
    "adf=df[['gender','cardspent','debtinc']]\n",
    "print(adf['gender'])"
   ]
  },
  {
   "cell_type": "markdown",
   "metadata": {},
   "source": [
    "Compute means for `cardspent` and `debtinc` for the male and female populations:"
   ]
  },
  {
   "cell_type": "code",
   "execution_count": 25,
   "metadata": {},
   "outputs": [
    {
     "name": "stdout",
     "output_type": "stream",
     "text": [
      "         cardspent   debtinc\n",
      "gender                      \n",
      "Female  323.343489  9.985221\n",
      "Male    356.606840  9.929236\n"
     ]
    }
   ],
   "source": [
    "gender_data = adf.groupby('gender')\n",
    "print (gender_data.mean())"
   ]
  },
  {
   "cell_type": "markdown",
   "metadata": {},
   "source": [
    "Compute mean for `cardspent` for female population only:"
   ]
  },
  {
   "cell_type": "code",
   "execution_count": 26,
   "metadata": {},
   "outputs": [
    {
     "data": {
      "text/plain": [
       "323.34348882791136"
      ]
     },
     "execution_count": 26,
     "metadata": {},
     "output_type": "execute_result"
    }
   ],
   "source": [
    "adf[adf['gender'] == 'Female']['cardspent'].mean()"
   ]
  },
  {
   "cell_type": "markdown",
   "metadata": {},
   "source": [
    "We have seen above that the mean `cardspent` and `debtinc` in the male and female populations were different. To test if this is significant, we do a 2-sample t-test with `scipy.stats.ttest_ind()`:"
   ]
  },
  {
   "cell_type": "code",
   "execution_count": 27,
   "metadata": {},
   "outputs": [
    {
     "name": "stdout",
     "output_type": "stream",
     "text": [
      "t-test: t = -4.74396  p = 2.15418e-06\n"
     ]
    }
   ],
   "source": [
    "female_card = adf[adf['gender'] == 'Female']['cardspent']\n",
    "male_card = adf[adf['gender'] == 'Male']['cardspent']\n",
    "tc, pc = stats.ttest_ind(female_card, male_card)\n",
    "print (\"t-test: t = %g  p = %g\" % (tc, pc))"
   ]
  },
  {
   "cell_type": "markdown",
   "metadata": {},
   "source": [
    "In the case of amount spent on primary credit card, we conclude that men tend to charge more on their primary card (`p-value = 2e-6 < 0.05`, statistically significant)."
   ]
  },
  {
   "cell_type": "code",
   "execution_count": 28,
   "metadata": {},
   "outputs": [
    {
     "name": "stdout",
     "output_type": "stream",
     "text": [
      "t-test: t = 0.308069  p = 0.758043\n"
     ]
    }
   ],
   "source": [
    "female_debt = adf[adf['gender'] == 'Female']['debtinc']\n",
    "male_debt   = adf[adf['gender'] == 'Male']['debtinc']\n",
    "td, pd      = stats.ttest_ind(female_debt, male_debt)\n",
    "print (\"t-test: t = %g  p = %g\" % (td, pd))"
   ]
  },
  {
   "cell_type": "markdown",
   "metadata": {},
   "source": [
    "In the case of debt-to-income ratio, we conclude that there is no significant difference between men and women (`p-value = 0.758 > 0.05`, not statistically significant)."
   ]
  },
  {
   "cell_type": "markdown",
   "metadata": {},
   "source": [
    "## Plot Data\n",
    "\n",
    "### Plot statistical measures for amounts spent on primary credit card\n",
    "\n",
    "#### Use `boxplot` to compare medians, 25% and 75% percentiles, 12.5% and 87.5% percentiles:"
   ]
  },
  {
   "cell_type": "code",
   "execution_count": 29,
   "metadata": {
    "scrolled": false
   },
   "outputs": [
    {
     "data": {
      "image/png": "[encoded data removed]",
      "text/plain": [
       "<matplotlib.figure.Figure at 0x7f25babad198>"
      ]
     },
     "metadata": {},
     "output_type": "display_data"
    }
   ],
   "source": [
    "adf.boxplot(column='cardspent', by='gender', grid=False, showfliers=False)\n",
    "plt.show()"
   ]
  },
  {
   "cell_type": "markdown",
   "metadata": {},
   "source": [
    "#### Plot observations with `boxplot`:"
   ]
  },
  {
   "cell_type": "code",
   "execution_count": 30,
   "metadata": {
    "scrolled": true
   },
   "outputs": [
    {
     "name": "stderr",
     "output_type": "stream",
     "text": [
      "/home/hanwen/.local/lib/python3.6/site-packages/numpy/core/fromnumeric.py:52: FutureWarning: reshape is deprecated and will raise in a subsequent release. Please use .values.reshape(...) instead\n",
      "  return getattr(obj, method)(*args, **kwds)\n"
     ]
    },
    {
     "data": {
      "image/png": "[encoded data removed]",
      "text/plain": [
       "<matplotlib.figure.Figure at 0x7f25bb556940>"
      ]
     },
     "metadata": {},
     "output_type": "display_data"
    }
   ],
   "source": [
    "gend = list(['Female', 'Male'])\n",
    "for i in [1,2]:\n",
    "    y = adf.cardspent[adf.gender==gend[i-1]].dropna()        \n",
    "    # Add some random \"jitter\" to the x-axis\n",
    "    x = np.random.normal(i, 0.04, size=len(y))\n",
    "    plt.plot(x, y, 'r.', alpha=0.2)\n",
    "plt.boxplot([female_card,male_card],labels=gend)\n",
    "plt.ylabel(\"cardspent\")\n",
    "plt.ylim((-50,850))    \n",
    "plt.show()"
   ]
  },
  {
   "cell_type": "markdown",
   "metadata": {},
   "source": [
    "### Plot age vs. income data to find some interesting relationships."
   ]
  },
  {
   "cell_type": "code",
   "execution_count": 31,
   "metadata": {},
   "outputs": [
    {
     "data": {
      "image/png": "[encoded data removed]",
      "text/plain": [
       "<matplotlib.figure.Figure at 0x7f25babfe7b8>"
      ]
     },
     "metadata": {},
     "output_type": "display_data"
    }
   ],
   "source": [
    "plt.scatter(df.age, df.annual_income)\n",
    "plt.xlabel(\"Age\")\n",
    "plt.ylabel(\"Income\")\n",
    "plt.show()"
   ]
  }
 ],
 "metadata": {
  "anaconda-cloud": {},
  "kernelspec": {
   "display_name": "Python 3",
   "language": "python",
   "name": "python3"
  },
  "language_info": {
   "codemirror_mode": {
    "name": "ipython",
    "version": 3
   },
   "file_extension": ".py",
   "mimetype": "text/x-python",
   "name": "python",
   "nbconvert_exporter": "python",
   "pygments_lexer": "ipython3",
   "version": "3.6.4"
  }
 },
 "nbformat": 4,
 "nbformat_minor": 1
}
