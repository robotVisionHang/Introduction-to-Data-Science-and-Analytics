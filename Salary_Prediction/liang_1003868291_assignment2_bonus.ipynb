{
 "cells": [
  {
   "cell_type": "code",
   "execution_count": 1,
   "metadata": {},
   "outputs": [],
   "source": [
    "import pandas as pd\n",
    "import numpy as np\n",
    "import os\n",
    "\n",
    "from sklearn.model_selection import train_test_split\n",
    "\n",
    "from sklearn.feature_extraction.text import CountVectorizer\n",
    "from sklearn import linear_model\n",
    "\n",
    "from sklearn.feature_selection import RFE\n",
    "from sklearn.ensemble import GradientBoostingRegressor\n",
    "from sklearn.metrics import make_scorer, r2_score, mean_squared_error, auc, mean_absolute_error\n",
    "from sklearn.model_selection import GridSearchCV, KFold\n",
    "\n",
    "from sklearn.neural_network import MLPRegressor\n",
    "import matplotlib.pyplot as plt\n",
    "\n",
    "import seaborn as sns\n",
    "\n",
    "from sklearn.model_selection import train_test_split\n",
    "from sklearn.linear_model import LinearRegression\n",
    "from sklearn import metrics\n",
    "\n",
    "%matplotlib inline"
   ]
  },
  {
   "cell_type": "code",
   "execution_count": 2,
   "metadata": {},
   "outputs": [
    {
     "name": "stderr",
     "output_type": "stream",
     "text": [
      "/home/hanwen/anaconda3/lib/python3.6/site-packages/IPython/core/interactiveshell.py:2728: DtypeWarning: Columns (1,3,9,11,13,22,24,25,26,27,28,29,45,57,65,84,86,88,108,110,124,126,151,195,209,224,250,263,265,277,278,279,280,281,282,283,284,285,286,287,288,289,290,291,305,307,323,326,327,330,342,372,385,386,394,395) have mixed types. Specify dtype option on import or set low_memory=False.\n",
      "  interactivity=interactivity, compiler=compiler, result=result)\n"
     ]
    }
   ],
   "source": [
    "Salary = pd.read_csv('./Kaggle_Salary.csv')"
   ]
  },
  {
   "cell_type": "code",
   "execution_count": 3,
   "metadata": {},
   "outputs": [
    {
     "name": "stdout",
     "output_type": "stream",
     "text": [
      "(15429, 394)\n"
     ]
    },
    {
     "data": {
      "text/html": [
       "<div>\n",
       "<style scoped>\n",
       "    .dataframe tbody tr th:only-of-type {\n",
       "        vertical-align: middle;\n",
       "    }\n",
       "\n",
       "    .dataframe tbody tr th {\n",
       "        vertical-align: top;\n",
       "    }\n",
       "\n",
       "    .dataframe thead th {\n",
       "        text-align: right;\n",
       "    }\n",
       "</style>\n",
       "<table border=\"1\" class=\"dataframe\">\n",
       "  <thead>\n",
       "    <tr style=\"text-align: right;\">\n",
       "      <th></th>\n",
       "      <th>Q1</th>\n",
       "      <th>Q1_OTHER_TEXT</th>\n",
       "      <th>Q2</th>\n",
       "      <th>Q3</th>\n",
       "      <th>Q4</th>\n",
       "      <th>Q5</th>\n",
       "      <th>Q6</th>\n",
       "      <th>Q6_OTHER_TEXT</th>\n",
       "      <th>Q7</th>\n",
       "      <th>Q7_OTHER_TEXT</th>\n",
       "      <th>...</th>\n",
       "      <th>Q49_OTHER_TEXT</th>\n",
       "      <th>Q50_Part_1</th>\n",
       "      <th>Q50_Part_2</th>\n",
       "      <th>Q50_Part_3</th>\n",
       "      <th>Q50_Part_4</th>\n",
       "      <th>Q50_Part_5</th>\n",
       "      <th>Q50_Part_6</th>\n",
       "      <th>Q50_Part_7</th>\n",
       "      <th>Q50_Part_8</th>\n",
       "      <th>Q50_OTHER_TEXT</th>\n",
       "    </tr>\n",
       "  </thead>\n",
       "  <tbody>\n",
       "    <tr>\n",
       "      <th>1</th>\n",
       "      <td>Male</td>\n",
       "      <td>-1</td>\n",
       "      <td>30-34</td>\n",
       "      <td>Indonesia</td>\n",
       "      <td>Bachelor’s degree</td>\n",
       "      <td>Engineering (non-computer focused)</td>\n",
       "      <td>Other</td>\n",
       "      <td>0</td>\n",
       "      <td>Manufacturing/Fabrication</td>\n",
       "      <td>-1</td>\n",
       "      <td>...</td>\n",
       "      <td>-1</td>\n",
       "      <td>NaN</td>\n",
       "      <td>NaN</td>\n",
       "      <td>NaN</td>\n",
       "      <td>NaN</td>\n",
       "      <td>NaN</td>\n",
       "      <td>NaN</td>\n",
       "      <td>NaN</td>\n",
       "      <td>NaN</td>\n",
       "      <td>-1</td>\n",
       "    </tr>\n",
       "    <tr>\n",
       "      <th>2</th>\n",
       "      <td>Female</td>\n",
       "      <td>-1</td>\n",
       "      <td>30-34</td>\n",
       "      <td>United States of America</td>\n",
       "      <td>Master’s degree</td>\n",
       "      <td>Computer science (software engineering, etc.)</td>\n",
       "      <td>Data Scientist</td>\n",
       "      <td>-1</td>\n",
       "      <td>I am a student</td>\n",
       "      <td>-1</td>\n",
       "      <td>...</td>\n",
       "      <td>-1</td>\n",
       "      <td>NaN</td>\n",
       "      <td>Too time-consuming</td>\n",
       "      <td>NaN</td>\n",
       "      <td>NaN</td>\n",
       "      <td>NaN</td>\n",
       "      <td>NaN</td>\n",
       "      <td>NaN</td>\n",
       "      <td>NaN</td>\n",
       "      <td>-1</td>\n",
       "    </tr>\n",
       "    <tr>\n",
       "      <th>3</th>\n",
       "      <td>Male</td>\n",
       "      <td>-1</td>\n",
       "      <td>22-24</td>\n",
       "      <td>India</td>\n",
       "      <td>Master’s degree</td>\n",
       "      <td>Mathematics or statistics</td>\n",
       "      <td>Data Analyst</td>\n",
       "      <td>-1</td>\n",
       "      <td>I am a student</td>\n",
       "      <td>-1</td>\n",
       "      <td>...</td>\n",
       "      <td>-1</td>\n",
       "      <td>NaN</td>\n",
       "      <td>Too time-consuming</td>\n",
       "      <td>NaN</td>\n",
       "      <td>NaN</td>\n",
       "      <td>Not enough incentives to share my work</td>\n",
       "      <td>NaN</td>\n",
       "      <td>NaN</td>\n",
       "      <td>NaN</td>\n",
       "      <td>-1</td>\n",
       "    </tr>\n",
       "    <tr>\n",
       "      <th>4</th>\n",
       "      <td>Male</td>\n",
       "      <td>-1</td>\n",
       "      <td>35-39</td>\n",
       "      <td>Chile</td>\n",
       "      <td>Doctoral degree</td>\n",
       "      <td>Information technology, networking, or system ...</td>\n",
       "      <td>Other</td>\n",
       "      <td>1</td>\n",
       "      <td>Academics/Education</td>\n",
       "      <td>-1</td>\n",
       "      <td>...</td>\n",
       "      <td>-1</td>\n",
       "      <td>Too expensive</td>\n",
       "      <td>NaN</td>\n",
       "      <td>NaN</td>\n",
       "      <td>NaN</td>\n",
       "      <td>NaN</td>\n",
       "      <td>I had never considered making my work easier f...</td>\n",
       "      <td>NaN</td>\n",
       "      <td>NaN</td>\n",
       "      <td>-1</td>\n",
       "    </tr>\n",
       "    <tr>\n",
       "      <th>5</th>\n",
       "      <td>Male</td>\n",
       "      <td>-1</td>\n",
       "      <td>18-21</td>\n",
       "      <td>India</td>\n",
       "      <td>Master’s degree</td>\n",
       "      <td>Information technology, networking, or system ...</td>\n",
       "      <td>Other</td>\n",
       "      <td>2</td>\n",
       "      <td>Other</td>\n",
       "      <td>1</td>\n",
       "      <td>...</td>\n",
       "      <td>-1</td>\n",
       "      <td>NaN</td>\n",
       "      <td>NaN</td>\n",
       "      <td>NaN</td>\n",
       "      <td>NaN</td>\n",
       "      <td>Not enough incentives to share my work</td>\n",
       "      <td>NaN</td>\n",
       "      <td>NaN</td>\n",
       "      <td>NaN</td>\n",
       "      <td>-1</td>\n",
       "    </tr>\n",
       "  </tbody>\n",
       "</table>\n",
       "<p>5 rows × 394 columns</p>\n",
       "</div>"
      ],
      "text/plain": [
       "       Q1 Q1_OTHER_TEXT     Q2                        Q3                 Q4  \\\n",
       "1    Male            -1  30-34                 Indonesia  Bachelor’s degree   \n",
       "2  Female            -1  30-34  United States of America    Master’s degree   \n",
       "3    Male            -1  22-24                     India    Master’s degree   \n",
       "4    Male            -1  35-39                     Chile    Doctoral degree   \n",
       "5    Male            -1  18-21                     India    Master’s degree   \n",
       "\n",
       "                                                  Q5              Q6  \\\n",
       "1                 Engineering (non-computer focused)           Other   \n",
       "2      Computer science (software engineering, etc.)  Data Scientist   \n",
       "3                          Mathematics or statistics    Data Analyst   \n",
       "4  Information technology, networking, or system ...           Other   \n",
       "5  Information technology, networking, or system ...           Other   \n",
       "\n",
       "  Q6_OTHER_TEXT                         Q7 Q7_OTHER_TEXT      ...        \\\n",
       "1             0  Manufacturing/Fabrication            -1      ...         \n",
       "2            -1             I am a student            -1      ...         \n",
       "3            -1             I am a student            -1      ...         \n",
       "4             1        Academics/Education            -1      ...         \n",
       "5             2                      Other             1      ...         \n",
       "\n",
       "  Q49_OTHER_TEXT     Q50_Part_1          Q50_Part_2 Q50_Part_3 Q50_Part_4  \\\n",
       "1             -1            NaN                 NaN        NaN        NaN   \n",
       "2             -1            NaN  Too time-consuming        NaN        NaN   \n",
       "3             -1            NaN  Too time-consuming        NaN        NaN   \n",
       "4             -1  Too expensive                 NaN        NaN        NaN   \n",
       "5             -1            NaN                 NaN        NaN        NaN   \n",
       "\n",
       "                               Q50_Part_5  \\\n",
       "1                                     NaN   \n",
       "2                                     NaN   \n",
       "3  Not enough incentives to share my work   \n",
       "4                                     NaN   \n",
       "5  Not enough incentives to share my work   \n",
       "\n",
       "                                          Q50_Part_6 Q50_Part_7 Q50_Part_8  \\\n",
       "1                                                NaN        NaN        NaN   \n",
       "2                                                NaN        NaN        NaN   \n",
       "3                                                NaN        NaN        NaN   \n",
       "4  I had never considered making my work easier f...        NaN        NaN   \n",
       "5                                                NaN        NaN        NaN   \n",
       "\n",
       "  Q50_OTHER_TEXT  \n",
       "1             -1  \n",
       "2             -1  \n",
       "3             -1  \n",
       "4             -1  \n",
       "5             -1  \n",
       "\n",
       "[5 rows x 394 columns]"
      ]
     },
     "execution_count": 3,
     "metadata": {},
     "output_type": "execute_result"
    }
   ],
   "source": [
    "# Drop three irrelavent columns\n",
    "Salary.drop(['Unnamed: 0','index','Time from Start to Finish (seconds)'], axis=1,inplace=True)\n",
    "\n",
    "QuestionMapping = {}\n",
    "for col in Salary.columns:\n",
    "    QuestionMapping[col] = Salary.loc[0,col]\n",
    "Salary.drop([0],inplace=True)\n",
    "print(Salary.shape)\n",
    "Salary.head()"
   ]
  },
  {
   "cell_type": "code",
   "execution_count": 4,
   "metadata": {},
   "outputs": [
    {
     "name": "stdout",
     "output_type": "stream",
     "text": [
      "We drop nan rows in the below columns: ['Q5', 'Q8']\n",
      "(15219, 394)\n"
     ]
    }
   ],
   "source": [
    "# See how many null values are in each column\n",
    "# Here we only deal with those colunmns that has null values more than zero but fewer that 1% of all data\n",
    "less_001 = []\n",
    "for col in Salary.columns:\n",
    "    NullNum = Salary[col].isnull().sum()\n",
    "    if (NullNum > 0) & (0.01 * Salary.shape[0] > NullNum):\n",
    "        if (\"Part\" not in col) or (col in ['Q39_Part_1','Q39_Part_2']):\n",
    "            less_001.append(col)\n",
    "print(\"We drop nan rows in the below columns:\",less_001)\n",
    "\n",
    "for col in less_001:\n",
    "    Salary.dropna(subset=[col],inplace=True)\n",
    "print(Salary.shape)"
   ]
  },
  {
   "cell_type": "code",
   "execution_count": 5,
   "metadata": {},
   "outputs": [
    {
     "name": "stdout",
     "output_type": "stream",
     "text": [
      "We use modes in these columns to replace nan value: ['Q10', 'Q12_MULTIPLE_CHOICE', 'Q18', 'Q23', 'Q24', 'Q25', 'Q26']\n"
     ]
    }
   ],
   "source": [
    "between_001_020 = []\n",
    "for col in Salary.columns:\n",
    "    NullNum = Salary[col].isnull().sum()\n",
    "    if (0.2 * Salary.shape[0] > NullNum) and (NullNum >= 0.01 * Salary.shape[0]):\n",
    "        if (\"Part\" not in col) or (col in ['Q39_Part_1','Q39_Part_2']):\n",
    "            between_001_020.append(col)\n",
    "print(\"We use modes in these columns to replace nan value:\",between_001_020)\n",
    "for col in between_001_020:\n",
    "    Salary[col].fillna(Salary[col].mode()[0],inplace=True)"
   ]
  },
  {
   "cell_type": "code",
   "execution_count": 6,
   "metadata": {},
   "outputs": [
    {
     "name": "stdout",
     "output_type": "stream",
     "text": [
      "We set nans in these columns as 'Unknown': ['Q17', 'Q20', 'Q22', 'Q32', 'Q39_Part_1', 'Q39_Part_2', 'Q40', 'Q43', 'Q46', 'Q48']\n"
     ]
    }
   ],
   "source": [
    "between_020_050 = []\n",
    "for col in Salary.columns:\n",
    "    NullNum = Salary[col].isnull().sum()\n",
    "    if (0.2 * Salary.shape[0]) < NullNum and (NullNum < 0.5 * Salary.shape[0]):\n",
    "        if (\"Part\" not in col) or (col in ['Q39_Part_1','Q39_Part_2']):\n",
    "            between_020_050.append(col)\n",
    "print(\"We set nans in these columns as 'Unknown':\",between_020_050)\n",
    "\n",
    "for col in between_020_050:\n",
    "    Salary.loc[Salary[col].isnull(),col] = 'Unknown'"
   ]
  },
  {
   "cell_type": "code",
   "execution_count": 7,
   "metadata": {},
   "outputs": [
    {
     "name": "stdout",
     "output_type": "stream",
     "text": [
      "We drop these columns because large part of the data is missing: ['Q37']\n"
     ]
    }
   ],
   "source": [
    "more_050 = []\n",
    "for col in Salary.columns:\n",
    "    NullNum = Salary[col].isnull().sum()\n",
    "    if 0.5 * Salary.shape[0] < NullNum:\n",
    "        if (\"Part\" not in col) or (col in ['Q39_Part_1','Q39_Part_2']):\n",
    "            more_050.append(col)\n",
    "print(\"We drop these columns because large part of the data is missing:\",more_050)\n",
    "\n",
    "for col in more_050:\n",
    "    Salary.drop([col], axis=1,inplace=True)"
   ]
  },
  {
   "cell_type": "code",
   "execution_count": 8,
   "metadata": {},
   "outputs": [],
   "source": [
    "ALLCOL = Salary.columns.tolist()\n",
    "def select_col(condition, allcol=ALLCOL):\n",
    "    digit = len(condition)\n",
    "    selected = []\n",
    "    for i in allcol:\n",
    "        if condition in i:\n",
    "            if len(i)==digit:\n",
    "                selected.append(i)\n",
    "            elif i[digit] not in '0123456789':\n",
    "                selected.append(i)                \n",
    "    return selected"
   ]
  },
  {
   "cell_type": "code",
   "execution_count": 9,
   "metadata": {},
   "outputs": [],
   "source": [
    "DummyCols = ['Q1','Q4','Q5','Q6','Q7','Q10','Q12_MULTIPLE_CHOICE',\\\n",
    "            'Q17','Q18','Q20','Q23','Q26','Q32','Q39_Part_1', 'Q39_Part_2',\\\n",
    "             'Q40','Q48']"
   ]
  },
  {
   "cell_type": "code",
   "execution_count": 10,
   "metadata": {},
   "outputs": [],
   "source": [
    "for col in DummyCols:\n",
    "    Salary = pd.get_dummies(data=Salary, columns=[col])"
   ]
  },
  {
   "cell_type": "code",
   "execution_count": 11,
   "metadata": {},
   "outputs": [],
   "source": [
    "# print(Salary['Q3'].value_counts())\n",
    "val_counts = Salary['Q3'].value_counts()\n",
    "value_mask = Salary['Q3'].isin(val_counts.index[val_counts < 50])\n",
    "Salary.loc[value_mask,'Q3'] = \"Other\"\n",
    "\n",
    "Salary = pd.get_dummies(data=Salary, columns=['Q3'])"
   ]
  },
  {
   "cell_type": "code",
   "execution_count": 12,
   "metadata": {},
   "outputs": [],
   "source": [
    "# print(Salary['Q22'].value_counts())\n",
    "val_counts = Salary['Q22'].value_counts()\n",
    "value_mask = Salary['Q22'].isin(val_counts.index[val_counts < 100])\n",
    "Salary.loc[value_mask,'Q22'] = \"Other\"\n",
    "\n",
    "Salary = pd.get_dummies(data=Salary, columns=['Q22'])"
   ]
  },
  {
   "cell_type": "code",
   "execution_count": 13,
   "metadata": {},
   "outputs": [],
   "source": [
    "def Range_Normalize(value):\n",
    "    if isinstance(value, str):\n",
    "        if '-' in value:\n",
    "            temp = value.split('-')\n",
    "            return (float(temp[0])+float(temp[1]))/2\n",
    "        if '+' in value:\n",
    "            a = value.split('+')\n",
    "            return float(a[0])\n",
    "        else:\n",
    "            return value\n",
    "    else:\n",
    "        return value\n",
    "# Salary[select_col('Q2')]\n",
    "Salary['Q2_NORMAL'] = Salary['Q2'].apply(Range_Normalize)\n",
    "Salary.drop(['Q2'],axis=1,inplace=True)\n",
    "\n",
    "# Salary[select_col('Q8')]\n",
    "Salary['Q8_NORMAL'] = Salary['Q8'].apply(Range_Normalize)\n",
    "Salary.drop(['Q8'],axis=1,inplace=True)\n",
    "\n",
    "# Salary[select_col('Q24')]\n",
    "def Q24Range_Normalize(value):\n",
    "    mapdict = {'I have never written code and I do not want to learn':-1,\n",
    "               'I have never written code but I want to learn':0,'< 1 year':0.5,\n",
    "              '1-2 years':1.5,'3-5 years':4,'5-10 years':7.5,'10-20 years':15,\n",
    "               '20-30 years':25,'30-40 years':35,'40+ years':40}\n",
    "    return mapdict[value]\n",
    "# Salary[select_col('Q2')]\n",
    "Salary['Q24_NORMAL'] = Salary['Q24'].apply(Q24Range_Normalize)\n",
    "Salary.drop(['Q24'],axis=1,inplace=True)\n",
    "\n",
    "# Salary[select_col('Q25')]\n",
    "Salary['Q25'].unique()\n",
    "def Q25Range_Normalize(value):\n",
    "    mapdict = {'I have never studied machine learning and I do not plan to':-1,\n",
    "               'I have never studied machine learning but plan to learn in the future':0,\n",
    "               '< 1 year':0.5,'1-2 years':1.5,'2-3 years':2.5,'3-4 years':3.5,'4-5 years':4.5,\n",
    "               '5-10 years':7.5,'10-15 years':12.5,'20+ years':20}\n",
    "    return mapdict[value]\n",
    "Salary['Q25_NORMAL'] = Salary['Q25'].apply(Q25Range_Normalize)\n",
    "Salary.drop(['Q25'],axis=1,inplace=True)\n",
    "\n",
    "def Q41Range_Normalize(value):\n",
    "    mapdict = {'Very important':10,\n",
    "               'Slightly important':5,\n",
    "               'No opinion; I do not know':2,\n",
    "               'Unknown':0,\n",
    "               'Not at all important':-10}\n",
    "    return mapdict[value]\n",
    "\n",
    "Salary.loc[Salary['Q41_Part_1'].isnull(),'Q41_Part_1'] = 'Unknown'\n",
    "Salary.loc[Salary['Q41_Part_2'].isnull(),'Q41_Part_2'] = 'Unknown'\n",
    "Salary.loc[Salary['Q41_Part_3'].isnull(),'Q41_Part_3'] = 'Unknown'\n",
    "\n",
    "Salary['Q41_Part_1_NORMAL'] = Salary['Q41_Part_1'].apply(Q41Range_Normalize)\n",
    "Salary.drop(['Q41_Part_1'],axis=1,inplace=True)\n",
    "Salary['Q41_Part_2_NORMAL'] = Salary['Q41_Part_2'].apply(Q41Range_Normalize)\n",
    "Salary.drop(['Q41_Part_2'],axis=1,inplace=True)\n",
    "Salary['Q41_Part_3_NORMAL'] = Salary['Q41_Part_3'].apply(Q41Range_Normalize)\n",
    "Salary.drop(['Q41_Part_3'],axis=1,inplace=True)\n",
    "\n",
    "def Q43Range_Normalize(value):\n",
    "    if isinstance(value, str):\n",
    "        if '-' in value:\n",
    "            temp = value.split('-')\n",
    "            return (float(temp[0])+float(temp[1]))/2\n",
    "        elif value == \"0\":\n",
    "            return 0\n",
    "        else:\n",
    "            return float(\"nan\")\n",
    "    else:\n",
    "        return value\n",
    "Salary['Q43_NORMAL'] = Salary['Q43'].apply(Q43Range_Normalize)\n",
    "Salary.drop(['Q43'],axis=1,inplace=True)\n",
    "Salary['Q43_NORMAL'].fillna(Salary['Q43_NORMAL'].mode()[0],inplace=True)\n",
    "\n",
    "Salary['Q46_NORMAL'] = Salary['Q46'].apply(Q43Range_Normalize)\n",
    "Salary.drop(['Q46'],axis=1,inplace=True)\n",
    "Salary['Q46_NORMAL'].fillna(Salary['Q46_NORMAL'].mode()[0],inplace=True)"
   ]
  },
  {
   "cell_type": "code",
   "execution_count": 14,
   "metadata": {},
   "outputs": [],
   "source": [
    "# Salary[select_col('Q11')]\n",
    "import math\n",
    "def Binarize(value):\n",
    "    if isinstance(value,str):\n",
    "        return 1\n",
    "    else:\n",
    "        if value == 0 or math.isnan(value):\n",
    "            return 0\n",
    "        else:\n",
    "            return 1\n",
    "def binarize_col(columns, data=Salary):\n",
    "    for col in columns:\n",
    "        data[col] = data[col].apply(Binarize)\n",
    "\n",
    "NormalCols = select_col('Q11_Part') + select_col('Q13_Part') + \\\n",
    "select_col('Q14_Part') + select_col('Q15_Part') + select_col('Q16_Part')\\\n",
    "+ select_col('Q19_Part') + select_col('Q21_Part') + select_col('Q27_Part')\\\n",
    "+ select_col('Q28_Part') + select_col('Q29_Part') + select_col('Q30_Part') +\\\n",
    "select_col('Q31_Part') + select_col('Q33_Part') + select_col('Q34_Part') +\\\n",
    "select_col('Q36_Part') + select_col('Q38_Part') + select_col('Q42_Part') + \\\n",
    "select_col('Q44_Part') + select_col('Q45_Part') + select_col('Q47_Part') + \\\n",
    "select_col('Q49_Part') + select_col('Q50_Part')\n",
    "\n",
    "binarize_col(NormalCols)\n",
    "import math\n",
    "def TBinarize(value):\n",
    "    if isinstance(value,str):\n",
    "        return float(value)\n",
    "    else:\n",
    "        if math.isnan(value):\n",
    "            return -1\n",
    "        else:\n",
    "            return value\n",
    "def Tbinarize_col(columns, data=Salary):\n",
    "    for col in columns:\n",
    "        data[col] = data[col].apply(TBinarize)\n",
    "\n",
    "Tbinarize_col(select_col('Q34_Part'))\n",
    "Tbinarize_col(select_col('Q35_Part'))\n",
    "for col in Salary.columns:\n",
    "    if isinstance(Salary.loc[1,col],str):\n",
    "        Salary[col] = Salary[col].apply(lambda x:float(x))"
   ]
  },
  {
   "cell_type": "code",
   "execution_count": 15,
   "metadata": {},
   "outputs": [],
   "source": [
    "Salary.rename(columns={\"Q9\": \"Yearly_compensation\"},inplace=True)"
   ]
  },
  {
   "cell_type": "code",
   "execution_count": 16,
   "metadata": {},
   "outputs": [],
   "source": [
    "for col in Salary.columns:\n",
    "    if len(Salary[col].value_counts())==1:\n",
    "        Salary.drop([col], axis=1,inplace=True)"
   ]
  },
  {
   "cell_type": "code",
   "execution_count": 17,
   "metadata": {},
   "outputs": [],
   "source": [
    "for col in Salary.columns: \n",
    "    if Salary[col].isna().any():\n",
    "        print(col)\n",
    "\n",
    "for col in Salary.columns: \n",
    "    if isinstance(Salary.loc[1,col],str):\n",
    "        print(col)"
   ]
  },
  {
   "cell_type": "code",
   "execution_count": 18,
   "metadata": {},
   "outputs": [],
   "source": [
    "X = Salary.drop(['Yearly_compensation'],axis=1)\n",
    "Y = Salary['Yearly_compensation']\n",
    "\n",
    "from sklearn.model_selection import train_test_split\n",
    "X_Train, X_Test, Y_Train, Y_Test = train_test_split(X,Y,test_size=0.3, random_state=20)"
   ]
  },
  {
   "cell_type": "code",
   "execution_count": 36,
   "metadata": {},
   "outputs": [
    {
     "name": "stderr",
     "output_type": "stream",
     "text": [
      "/home/hanwen/anaconda3/lib/python3.6/site-packages/sklearn/neural_network/_base.py:194: RuntimeWarning: overflow encountered in square\n",
      "  return ((y_true - y_pred) ** 2).mean() / 2\n",
      "/home/hanwen/anaconda3/lib/python3.6/site-packages/numpy/core/_methods.py:75: RuntimeWarning: overflow encountered in reduce\n",
      "  ret = umr_sum(arr, axis, dtype, out, keepdims)\n",
      "/home/hanwen/anaconda3/lib/python3.6/site-packages/sklearn/neural_network/multilayer_perceptron.py:564: ConvergenceWarning: Stochastic Optimizer: Maximum iterations (2000) reached and the optimization hasn't converged yet.\n",
      "  % self.max_iter, ConvergenceWarning)\n"
     ]
    },
    {
     "data": {
      "text/plain": [
       "MLPRegressor(activation='relu', alpha=0.0001, batch_size='auto', beta_1=0.9,\n",
       "       beta_2=0.999, early_stopping=False, epsilon=1e-08,\n",
       "       hidden_layer_sizes=(100, 50, 50, 25, 25), learning_rate='constant',\n",
       "       learning_rate_init=0.001, max_iter=2000, momentum=0.9,\n",
       "       nesterovs_momentum=True, power_t=0.5, random_state=20, shuffle=True,\n",
       "       solver='sgd', tol=0.0001, validation_fraction=0.1, verbose=False,\n",
       "       warm_start=False)"
      ]
     },
     "execution_count": 36,
     "metadata": {},
     "output_type": "execute_result"
    }
   ],
   "source": [
    "from sklearn.neural_network import MLPRegressor\n",
    "\n",
    "clf = MLPRegressor(hidden_layer_sizes=(100,50,50,25,25), activation='relu', solver='sgd', alpha=0.0001, \\\n",
    "                   learning_rate_init=0.001,max_iter=2000, shuffle=True, random_state=20, early_stopping=False, \\\n",
    "                   beta_1=0.9, beta_2=0.999)\n",
    "# (solver='lbfgs', alpha=1e-5, hidden_layer_sizes=(10,8,4), random_state=1, max_iter=1000)\n",
    "clf.fit(X_Train, Y_Train)"
   ]
  },
  {
   "cell_type": "code",
   "execution_count": 37,
   "metadata": {},
   "outputs": [],
   "source": [
    "Y_Test_pred = clf.predict(X_Test)\n",
    "R2 = r2_score(Y_Test,Y_Test_pred)\n",
    "RMSE = np.sqrt(mean_squared_error(Y_Test,Y_Test_pred))"
   ]
  },
  {
   "cell_type": "code",
   "execution_count": 38,
   "metadata": {},
   "outputs": [
    {
     "data": {
      "text/plain": [
       "62045.710731508385"
      ]
     },
     "execution_count": 38,
     "metadata": {},
     "output_type": "execute_result"
    }
   ],
   "source": [
    "RMSE"
   ]
  },
  {
   "cell_type": "code",
   "execution_count": null,
   "metadata": {},
   "outputs": [],
   "source": []
  }
 ],
 "metadata": {
  "kernelspec": {
   "display_name": "Python 3",
   "language": "python",
   "name": "python3"
  },
  "language_info": {
   "codemirror_mode": {
    "name": "ipython",
    "version": 3
   },
   "file_extension": ".py",
   "mimetype": "text/x-python",
   "name": "python",
   "nbconvert_exporter": "python",
   "pygments_lexer": "ipython3",
   "version": "3.6.4"
  }
 },
 "nbformat": 4,
 "nbformat_minor": 2
}
